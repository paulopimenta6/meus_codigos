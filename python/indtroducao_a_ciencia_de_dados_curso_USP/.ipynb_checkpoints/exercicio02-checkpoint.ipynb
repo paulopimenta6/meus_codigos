{
 "cells": [
  {
   "cell_type": "code",
   "execution_count": 59,
   "id": "45d78e6f-9e2e-488f-a0c8-8c37a368cd66",
   "metadata": {},
   "outputs": [],
   "source": [
    "altura_pais = {\n",
    "    \"Alemanha\": 1.79,\n",
    "    \"Argentina\": 1.738,\n",
    "    \"Austrália\": 1.778,\n",
    "    \"Paises Baixos\": 1.838,\n",
    "    'Suécia': 1.79,\n",
    "    'Canadá': 1.78,\n",
    "    'Estados Unidos': 1.77,\n",
    "    'Reino Unido': 1.75,\n",
    "    'Estônia': 1.81,\n",
    "    'Finlândia': 1.79    \n",
    "}"
   ]
  },
  {
   "cell_type": "code",
   "execution_count": 61,
   "id": "3221c46b-a48f-43a1-b147-64e051ba9464",
   "metadata": {},
   "outputs": [],
   "source": [
    "def peso_ideal(altura):\n",
    "    return (72.7*altura) - 58"
   ]
  },
  {
   "cell_type": "code",
   "execution_count": 67,
   "id": "cb4f5e62-dfc6-4777-b6de-9e7c037557f5",
   "metadata": {},
   "outputs": [
    {
     "name": "stdout",
     "output_type": "stream",
     "text": [
      "Peso ideal para o Alemanha com altura 1.79 m: 72.13 kg\n",
      "Peso ideal para o Argentina com altura 1.74 m: 68.35 kg\n",
      "Peso ideal para o Austrália com altura 1.78 m: 71.26 kg\n",
      "Peso ideal para o Paises Baixos com altura 1.84 m: 75.62 kg\n",
      "Peso ideal para o Suécia com altura 1.79 m: 72.13 kg\n",
      "Peso ideal para o Canadá com altura 1.78 m: 71.41 kg\n",
      "Peso ideal para o Estados Unidos com altura 1.77 m: 70.68 kg\n",
      "Peso ideal para o Reino Unido com altura 1.75 m: 69.23 kg\n",
      "Peso ideal para o Estônia com altura 1.81 m: 73.59 kg\n",
      "Peso ideal para o Finlândia com altura 1.79 m: 72.13 kg\n"
     ]
    }
   ],
   "source": [
    "for pais, altura_m in altura_pais.items():\n",
    "    print(f'Peso ideal para o {pais} com altura {altura_m:.2f} m: {peso_ideal(altura_m):.2f} kg')"
   ]
  },
  {
   "cell_type": "code",
   "execution_count": null,
   "id": "9326930a-31d4-40de-abbd-8dffa30b12ca",
   "metadata": {},
   "outputs": [],
   "source": []
  }
 ],
 "metadata": {
  "kernelspec": {
   "display_name": "Python 3 (ipykernel)",
   "language": "python",
   "name": "python3"
  },
  "language_info": {
   "codemirror_mode": {
    "name": "ipython",
    "version": 3
   },
   "file_extension": ".py",
   "mimetype": "text/x-python",
   "name": "python",
   "nbconvert_exporter": "python",
   "pygments_lexer": "ipython3",
   "version": "3.11.5"
  }
 },
 "nbformat": 4,
 "nbformat_minor": 5
}
