{
 "cells": [
  {
   "cell_type": "code",
   "execution_count": 142,
   "id": "32a7bb27-1f08-4621-a440-9a57910931b6",
   "metadata": {},
   "outputs": [],
   "source": [
    "from dados import load_acess\n",
    "from sklearn.naive_bayes import MultinomialNB"
   ]
  },
  {
   "cell_type": "code",
   "execution_count": 144,
   "id": "4e9c2045-f90c-4845-be64-cebb040e4b83",
   "metadata": {},
   "outputs": [],
   "source": [
    "X, Y = load_acess() #instanciamento do modulo e captura do X e Y\n",
    "modelo = MultinomialNB() #instancia do modelo de naive bayes"
   ]
  },
  {
   "cell_type": "code",
   "execution_count": 146,
   "id": "d967202d-e5e1-4624-a885-eaf9638abe3a",
   "metadata": {},
   "outputs": [],
   "source": [
    "treino_dados = X[:round(0.9*len(X)+1)]\n",
    "treino_marcacoes = Y[:round(0.9*len(X)+1)]"
   ]
  },
  {
   "cell_type": "code",
   "execution_count": 148,
   "id": "8d719528-b8d2-4045-b462-a3802b75cfe3",
   "metadata": {},
   "outputs": [],
   "source": [
    "teste_dados = X[round(-0.1*len(X))+1:]\n",
    "teste_marcacoes = Y[round(-0.1*len(X))+1:]"
   ]
  },
  {
   "cell_type": "code",
   "execution_count": 150,
   "id": "db228b35-dcff-4a37-9231-eb92797523af",
   "metadata": {},
   "outputs": [],
   "source": [
    "modelo.fit(treino_dados, treino_marcacoes)\n",
    "resultado = modelo.predict(teste_dados)"
   ]
  },
  {
   "cell_type": "code",
   "execution_count": 152,
   "id": "bc7405ec-001f-487c-8426-90e850dfb9eb",
   "metadata": {},
   "outputs": [],
   "source": [
    "diff = resultado - teste_marcacoes"
   ]
  },
  {
   "cell_type": "code",
   "execution_count": 154,
   "id": "3a45ec35-f6e5-4973-a57c-82d5617a376d",
   "metadata": {},
   "outputs": [],
   "source": [
    "acertos = [d for d in diff if d == 0]\n",
    "total_acertos = len(acertos)\n",
    "total_elementos = len(teste_dados)"
   ]
  },
  {
   "cell_type": "code",
   "execution_count": 156,
   "id": "86533bbb-de85-41fc-b9e3-aa226bd94989",
   "metadata": {},
   "outputs": [],
   "source": [
    "taxa_acerto = 100.0*(total_acertos/total_elementos)"
   ]
  },
  {
   "cell_type": "code",
   "execution_count": 158,
   "id": "dd89e05e-6bdc-4ca7-8c2b-beabdb238866",
   "metadata": {},
   "outputs": [
    {
     "name": "stdout",
     "output_type": "stream",
     "text": [
      "89\n"
     ]
    }
   ],
   "source": [
    "print(round(taxa_acerto))"
   ]
  },
  {
   "cell_type": "code",
   "execution_count": 160,
   "id": "c33699f5-5bc7-46fb-a7b6-984f491605f3",
   "metadata": {},
   "outputs": [
    {
     "name": "stdout",
     "output_type": "stream",
     "text": [
      "9\n"
     ]
    }
   ],
   "source": [
    "print(total_elementos)"
   ]
  },
  {
   "cell_type": "code",
   "execution_count": null,
   "id": "0446dd89-baf2-443f-af53-4b62c985b576",
   "metadata": {},
   "outputs": [],
   "source": []
  },
  {
   "cell_type": "code",
   "execution_count": null,
   "id": "8223c0b8-3ccc-4eea-8c31-802750ca8776",
   "metadata": {},
   "outputs": [],
   "source": []
  }
 ],
 "metadata": {
  "kernelspec": {
   "display_name": "Python 3 (ipykernel)",
   "language": "python",
   "name": "python3"
  },
  "language_info": {
   "codemirror_mode": {
    "name": "ipython",
    "version": 3
   },
   "file_extension": ".py",
   "mimetype": "text/x-python",
   "name": "python",
   "nbconvert_exporter": "python",
   "pygments_lexer": "ipython3",
   "version": "3.11.9"
  }
 },
 "nbformat": 4,
 "nbformat_minor": 5
}
