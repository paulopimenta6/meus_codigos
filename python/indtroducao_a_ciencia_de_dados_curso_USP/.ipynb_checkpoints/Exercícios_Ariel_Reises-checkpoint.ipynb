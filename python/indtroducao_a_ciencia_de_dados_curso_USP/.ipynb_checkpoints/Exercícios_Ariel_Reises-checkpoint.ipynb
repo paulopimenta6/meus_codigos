{
  "cells": [
    {
      "cell_type": "markdown",
      "source": [
        "**UNIVERSIDADE DE SÃO PAULO - USP**\n",
        "\n",
        "**Unidade:** 60 - Faculdade de Ciências Farmacêuticas de Ribeirão Preto\n",
        "\n",
        "**Matrícula:** 24.0123563 | **Curso:** 60.04.00247 - Introdução à Ciência dos Dados\n",
        "\n",
        "**Edição:** 24.001 | **Oferecimento:** 1 - Período: 01/08/2024 a 01/11/2024\n",
        "\n",
        "**Aluno:** 14806512 - Ariel Ladislau Reises\n",
        "\n",
        "[Veja no GitHub](https://github.com/arielreises/ICD-USP/blob/main/Exerc%C3%ADcios_Ariel_Reises.ipynb)"
      ],
      "metadata": {
        "id": "dPVNlWPUjcqu"
      },
      "id": "dPVNlWPUjcqu"
    },
    {
      "cell_type": "markdown",
      "source": [
        "*Exercícios Propostos:*\n",
        "\n",
        "https://docs.google.com/document/d/1vqDYrcZOCTVvKvU_9PmszSRv6gnhhvta1JwkFneTjuU/edit?tab=t.0"
      ],
      "metadata": {
        "id": "cHFv_BXtWPuh"
      },
      "id": "cHFv_BXtWPuh"
    },
    {
      "cell_type": "markdown",
      "id": "c41f481a-a4db-4e84-9f83-f970d39c5c97",
      "metadata": {
        "id": "c41f481a-a4db-4e84-9f83-f970d39c5c97"
      },
      "source": [
        "# **1. Estrutura de Dados**"
      ]
    },
    {
      "cell_type": "markdown",
      "source": [
        "## **Exercício 1**"
      ],
      "metadata": {
        "id": "3VFGm-BlW5tp"
      },
      "id": "3VFGm-BlW5tp"
    },
    {
      "cell_type": "markdown",
      "source": [
        "Crie uma lista de temperaturas de dez países\n",
        "https://pt.wikipedia.org/wiki/Lista_de_pa%C3%ADses_por_extremos_meteorol%C3%B3gicos\n",
        "\n",
        "Escreva em cada célula de um notebook o acesso a elementos da lista para calcular a temperatura em graus Farenheit:\n",
        "\n",
        "`C = (5 * (F-32) / 9)`."
      ],
      "metadata": {
        "id": "9KXmBpe3W-hK"
      },
      "id": "9KXmBpe3W-hK"
    },
    {
      "cell_type": "markdown",
      "source": [
        "### *Criação da função de conversão de Celsius para Fahrenheit*"
      ],
      "metadata": {
        "id": "-gU7WC_saJK1"
      },
      "id": "-gU7WC_saJK1"
    },
    {
      "cell_type": "code",
      "source": [
        "# Função para converter de Celsius para Fahrenheit\n",
        "def celsius_para_fahrenheit(celsius):\n",
        "    return (celsius * 9/5) + 32"
      ],
      "metadata": {
        "id": "RNBaj1XuaNm2"
      },
      "id": "RNBaj1XuaNm2",
      "execution_count": null,
      "outputs": []
    },
    {
      "cell_type": "markdown",
      "source": [
        "### *Criação da lista vazia*"
      ],
      "metadata": {
        "id": "kYuc1U70XjRv"
      },
      "id": "kYuc1U70XjRv"
    },
    {
      "cell_type": "code",
      "execution_count": null,
      "id": "f63f704c-ede8-44a3-b131-8b4e383858e5",
      "metadata": {
        "id": "f63f704c-ede8-44a3-b131-8b4e383858e5"
      },
      "outputs": [],
      "source": [
        "# Lista vazia para armazenar os países e suas temperaturas\n",
        "paises_temperaturas = []"
      ]
    },
    {
      "cell_type": "markdown",
      "source": [
        "### *Adição dos países e temperaturas na lista*"
      ],
      "metadata": {
        "id": "RNirlmFUXn1n"
      },
      "id": "RNirlmFUXn1n"
    },
    {
      "cell_type": "code",
      "execution_count": null,
      "id": "b5fd2df2-58d8-4235-8661-7cbad92a7bb6",
      "metadata": {
        "id": "b5fd2df2-58d8-4235-8661-7cbad92a7bb6"
      },
      "outputs": [],
      "source": [
        "# Adicionando países e suas temperaturas mais baixas e mais altas (em ºC)\n",
        "paises_temperaturas.append((\"Afeganistão\", -52.2, 49.9))\n",
        "paises_temperaturas.append((\"África do Sul\", -20.1, 50.0))\n",
        "paises_temperaturas.append((\"Bélgica\", -30.1, 40.7))\n",
        "paises_temperaturas.append((\"Brasil\", -14.0, 44.8))\n",
        "paises_temperaturas.append((\"China\", -52.3, 50.3))\n",
        "paises_temperaturas.append((\"Emirados Árabes Unidos\", -1.0, 52.1))\n",
        "paises_temperaturas.append((\"Espanha\", -30.0, 47.2))\n",
        "paises_temperaturas.append((\"Índia\", -33.9, 51.0))\n",
        "paises_temperaturas.append((\"Japão\", -41.0, 41.0))\n",
        "paises_temperaturas.append((\"Rússia\", -67.8, 45.4))"
      ]
    },
    {
      "cell_type": "markdown",
      "source": [
        "### *Impressão*"
      ],
      "metadata": {
        "id": "m4ywqh0RacPf"
      },
      "id": "m4ywqh0RacPf"
    },
    {
      "cell_type": "code",
      "execution_count": null,
      "id": "bbe000be-43ce-4863-a747-c8322aacf170",
      "metadata": {
        "colab": {
          "base_uri": "https://localhost:8080/"
        },
        "id": "bbe000be-43ce-4863-a747-c8322aacf170",
        "outputId": "81337426-7767-46bd-8404-a595c9a9c120"
      },
      "outputs": [
        {
          "output_type": "stream",
          "name": "stdout",
          "text": [
            "Afeganistão:\n",
            "  Temperatura mais baixa: -52.2 ºC -> -61.96 ºF\n",
            "  Temperatura mais alta: 49.9 ºC -> 121.82 ºF\n",
            "\n",
            "África do Sul:\n",
            "  Temperatura mais baixa: -20.1 ºC -> -4.18 ºF\n",
            "  Temperatura mais alta: 50.0 ºC -> 122.00 ºF\n",
            "\n",
            "Bélgica:\n",
            "  Temperatura mais baixa: -30.1 ºC -> -22.18 ºF\n",
            "  Temperatura mais alta: 40.7 ºC -> 105.26 ºF\n",
            "\n",
            "Brasil:\n",
            "  Temperatura mais baixa: -14.0 ºC -> 6.80 ºF\n",
            "  Temperatura mais alta: 44.8 ºC -> 112.64 ºF\n",
            "\n",
            "China:\n",
            "  Temperatura mais baixa: -52.3 ºC -> -62.14 ºF\n",
            "  Temperatura mais alta: 50.3 ºC -> 122.54 ºF\n",
            "\n",
            "Emirados Árabes Unidos:\n",
            "  Temperatura mais baixa: -1.0 ºC -> 30.20 ºF\n",
            "  Temperatura mais alta: 52.1 ºC -> 125.78 ºF\n",
            "\n",
            "Espanha:\n",
            "  Temperatura mais baixa: -30.0 ºC -> -22.00 ºF\n",
            "  Temperatura mais alta: 47.2 ºC -> 116.96 ºF\n",
            "\n",
            "Índia:\n",
            "  Temperatura mais baixa: -33.9 ºC -> -29.02 ºF\n",
            "  Temperatura mais alta: 51.0 ºC -> 123.80 ºF\n",
            "\n",
            "Japão:\n",
            "  Temperatura mais baixa: -41.0 ºC -> -41.80 ºF\n",
            "  Temperatura mais alta: 41.0 ºC -> 105.80 ºF\n",
            "\n",
            "Rússia:\n",
            "  Temperatura mais baixa: -67.8 ºC -> -90.04 ºF\n",
            "  Temperatura mais alta: 45.4 ºC -> 113.72 ºF\n",
            "\n"
          ]
        }
      ],
      "source": [
        "# Imprimindo a conversão de temperaturas para Fahrenheit\n",
        "for pais, temp_baixa, temp_alta in paises_temperaturas:\n",
        "    temp_baixa_f = celsius_para_fahrenheit(temp_baixa)\n",
        "    temp_alta_f = celsius_para_fahrenheit(temp_alta)\n",
        "    print(f\"{pais}:\")\n",
        "    print(f\"  Temperatura mais baixa: {temp_baixa} ºC -> {temp_baixa_f:.2f} ºF\")\n",
        "    print(f\"  Temperatura mais alta: {temp_alta} ºC -> {temp_alta_f:.2f} ºF\")\n",
        "    print()  # Linha em branco para separar cada país"
      ]
    },
    {
      "cell_type": "markdown",
      "id": "62dfef54-04f8-4983-8849-dbfea3c4b142",
      "metadata": {
        "id": "62dfef54-04f8-4983-8849-dbfea3c4b142"
      },
      "source": [
        "## **Exercício 2**"
      ]
    },
    {
      "cell_type": "markdown",
      "source": [
        "Tendo como dados de entrada a altura média por país\n",
        "\n",
        "https://pt.wikipedia.org/wiki/Estatura\n",
        "\n",
        "crie um dicionário com 10 países, com chave como nome do país e valor como altura média, imprima em cada linha de um notebook o peso ideal:\n",
        "\n",
        "`(72.7*altura) - 58`\n",
        "\n",
        "por país, utilizando o dicionário e o operador de formatação (f'')."
      ],
      "metadata": {
        "id": "KGEGTtutiyI-"
      },
      "id": "KGEGTtutiyI-"
    },
    {
      "cell_type": "markdown",
      "source": [
        "### *Criação do dicionário com a altura média masculina por país*"
      ],
      "metadata": {
        "id": "g7I3SVHBdOq7"
      },
      "id": "g7I3SVHBdOq7"
    },
    {
      "cell_type": "code",
      "execution_count": null,
      "id": "cdfc3728-c43d-429e-9555-aefbd477440a",
      "metadata": {
        "id": "cdfc3728-c43d-429e-9555-aefbd477440a"
      },
      "outputs": [],
      "source": [
        "# Dicionário com os países e suas respectivas alturas médias (em metros)\n",
        "alturas_paises = {\n",
        "    \"Alemanha\": 1.81,\n",
        "    \"Brasil\": 1.739,\n",
        "    \"China\": 1.724,\n",
        "    \"Espanha\": 1.7562,\n",
        "    \"França\": 1.741,\n",
        "    \"Grécia\": 1.7806,\n",
        "    \"Índia\": 1.652,\n",
        "    \"Japão\": 1.7147,\n",
        "    \"Rússia\": 1.76,\n",
        "    \"Suécia\": 1.802\n",
        "}"
      ]
    },
    {
      "cell_type": "markdown",
      "source": [
        "### *Função para calcular o peso ideal*"
      ],
      "metadata": {
        "id": "CFJCkvF4dRc6"
      },
      "id": "CFJCkvF4dRc6"
    },
    {
      "cell_type": "code",
      "source": [
        "# Função que calcula o peso ideal\n",
        "def peso_ideal(altura):\n",
        "    return (72.7 * altura) - 58"
      ],
      "metadata": {
        "id": "cTlnb61BdTk6"
      },
      "id": "cTlnb61BdTk6",
      "execution_count": null,
      "outputs": []
    },
    {
      "cell_type": "markdown",
      "source": [
        "### *Impressão do peso ideal por país*"
      ],
      "metadata": {
        "id": "2wmpZiJ-deRa"
      },
      "id": "2wmpZiJ-deRa"
    },
    {
      "cell_type": "code",
      "source": [
        "# Calculando e imprimindo o peso ideal para cada país\n",
        "for pais, altura in alturas_paises.items():\n",
        "    peso = peso_ideal(altura)\n",
        "    print(f\"{pais}: Altura média = {altura:.2f} m -> Peso ideal = {peso:.2f} kg\")"
      ],
      "metadata": {
        "colab": {
          "base_uri": "https://localhost:8080/"
        },
        "id": "B-E-E_dBdgpa",
        "outputId": "eb97881f-94a9-4b64-8ca2-99609981550a"
      },
      "id": "B-E-E_dBdgpa",
      "execution_count": null,
      "outputs": [
        {
          "output_type": "stream",
          "name": "stdout",
          "text": [
            "Alemanha: Altura média = 1.81 m -> Peso ideal = 73.59 kg\n",
            "Brasil: Altura média = 1.74 m -> Peso ideal = 68.43 kg\n",
            "China: Altura média = 1.72 m -> Peso ideal = 67.33 kg\n",
            "Espanha: Altura média = 1.76 m -> Peso ideal = 69.68 kg\n",
            "França: Altura média = 1.74 m -> Peso ideal = 68.57 kg\n",
            "Grécia: Altura média = 1.78 m -> Peso ideal = 71.45 kg\n",
            "Índia: Altura média = 1.65 m -> Peso ideal = 62.10 kg\n",
            "Japão: Altura média = 1.71 m -> Peso ideal = 66.66 kg\n",
            "Rússia: Altura média = 1.76 m -> Peso ideal = 69.95 kg\n",
            "Suécia: Altura média = 1.80 m -> Peso ideal = 73.01 kg\n"
          ]
        }
      ]
    },
    {
      "cell_type": "markdown",
      "id": "0e6193c7-04d3-48b0-a8f9-c394edbee9ac",
      "metadata": {
        "id": "0e6193c7-04d3-48b0-a8f9-c394edbee9ac"
      },
      "source": [
        "## **Exercício 3**"
      ]
    },
    {
      "cell_type": "markdown",
      "source": [
        "Faça a conversão do valor de bolsas de pós-graduação de três países para Reais, imprimindo o salário de uma jornada de 40h semanais:\n",
        "\n",
        "https://exame.com/carreira/confira-63-bolsas-para-estudar-em-paises-como-canada-eua-e-alemanha/\n",
        "\n",
        "* Por hora trabalhada;\n",
        "* Por mês;\n",
        "* Por ano."
      ],
      "metadata": {
        "id": "6I1v0mYneMxS"
      },
      "id": "6I1v0mYneMxS"
    },
    {
      "cell_type": "markdown",
      "source": [
        "### *RPA para obter a cotação em tempo real*"
      ],
      "metadata": {
        "id": "iCL7-rDvgjJQ"
      },
      "id": "iCL7-rDvgjJQ"
    },
    {
      "cell_type": "markdown",
      "source": [
        "Aqui, utilizei um RPA para fazer a cotação do Dólar e do Euro em tempo real utilizando a API a AwesomeAPI\n",
        "\n",
        "*(Tenho outro notebook com esse conteúdo: https://colab.research.google.com/drive/1eYyx4zA19FDkp9tJCn6I2pOZyaguR89s?usp=sharing)*"
      ],
      "metadata": {
        "id": "-3x04PpNhZZW"
      },
      "id": "-3x04PpNhZZW"
    },
    {
      "cell_type": "code",
      "source": [
        "# Importação da biblioteca requests\n",
        "import requests\n",
        "\n",
        "# Obter a cotação atual de EUR e USD para BRL\n",
        "requisicao_usd = requests.get('https://economia.awesomeapi.com.br/all/USD-BRL')\n",
        "requisicao_eur = requests.get('https://economia.awesomeapi.com.br/all/EUR-BRL')\n",
        "\n",
        "# Extrair a cotação das respostas\n",
        "cotacao_usd = requisicao_usd.json()\n",
        "cotacao_eur = requisicao_eur.json()\n",
        "\n",
        "# Conversão de dólar e euro para reais\n",
        "usd_to_brl = float(cotacao_usd['USD']['bid'])\n",
        "eur_to_brl = float(cotacao_eur['EUR']['bid'])\n",
        "\n",
        "print(f\"Cotação atual do Dólar: R$ {usd_to_brl}\")\n",
        "print(f\"Cotação atual do Euro: R$ {eur_to_brl}\")"
      ],
      "metadata": {
        "colab": {
          "base_uri": "https://localhost:8080/"
        },
        "id": "jpImsCJBgkVI",
        "outputId": "ac5f910c-fbe8-44db-ea4d-cf9e403c56c7"
      },
      "id": "jpImsCJBgkVI",
      "execution_count": null,
      "outputs": [
        {
          "output_type": "stream",
          "name": "stdout",
          "text": [
            "Cotação atual do Dólar: R$ 5.6126\n",
            "Cotação atual do Euro: R$ 6.1338\n"
          ]
        }
      ]
    },
    {
      "cell_type": "markdown",
      "source": [
        "### *Cálculo para a Bélgica (EUR -> BRL)*"
      ],
      "metadata": {
        "id": "sN_mI0kdg0DA"
      },
      "id": "sN_mI0kdg0DA"
    },
    {
      "cell_type": "code",
      "source": [
        "# Valores das bolsas em suas respectivas moedas locais\n",
        "bolsa_belgica_eur = 1000  # valor mensal em euros\n",
        "\n",
        "# Cálculo do valor das bolsas convertidas para reais - Bélgica\n",
        "bolsa_belgica_brl_mes = bolsa_belgica_eur * eur_to_brl\n",
        "bolsa_belgica_brl_ano = bolsa_belgica_brl_mes * 12\n",
        "bolsa_belgica_brl_hora = bolsa_belgica_brl_mes / (40 * 4)\n",
        "\n",
        "print(\"Bélgica (EUR -> BRL):\\n\")\n",
        "print(f\"Por hora: R$ {bolsa_belgica_brl_hora:.2f}\")\n",
        "print(f\"Por mês: R$ {bolsa_belgica_brl_mes:.2f}\")\n",
        "print(f\"Por ano: R$ {bolsa_belgica_brl_ano:.2f}\")\n"
      ],
      "metadata": {
        "colab": {
          "base_uri": "https://localhost:8080/"
        },
        "id": "t_o0pNY1gyrY",
        "outputId": "2dacc356-fa9a-4dd3-e3ba-e6cca4c02f64"
      },
      "id": "t_o0pNY1gyrY",
      "execution_count": null,
      "outputs": [
        {
          "output_type": "stream",
          "name": "stdout",
          "text": [
            "Bélgica (EUR -> BRL):\n",
            "\n",
            "Por hora: R$ 38.34\n",
            "Por mês: R$ 6133.80\n",
            "Por ano: R$ 73605.60\n"
          ]
        }
      ]
    },
    {
      "cell_type": "markdown",
      "source": [
        "### *Cálculo para os Emirados Árabes (USD -> BRL)*"
      ],
      "metadata": {
        "id": "8Uo8HHxJgw7w"
      },
      "id": "8Uo8HHxJgw7w"
    },
    {
      "cell_type": "code",
      "source": [
        "# Valores das bolsas em suas respectivas moedas locais\n",
        "bolsa_emirados_usd_min = 2200  # valor mensal mínimo em dólares\n",
        "bolsa_emirados_usd_max = 2700  # valor mensal máximo em dólares\n",
        "\n",
        "# Cálculo do valor das bolsas convertidas para reais - Emirados Árabes\n",
        "bolsa_emirados_brl_mes_min = bolsa_emirados_usd_min * usd_to_brl\n",
        "bolsa_emirados_brl_mes_max = bolsa_emirados_usd_max * usd_to_brl\n",
        "bolsa_emirados_brl_ano_min = bolsa_emirados_brl_mes_min * 12\n",
        "bolsa_emirados_brl_ano_max = bolsa_emirados_brl_mes_max * 12\n",
        "bolsa_emirados_brl_hora_min = bolsa_emirados_brl_mes_min / (40 * 4)\n",
        "bolsa_emirados_brl_hora_max = bolsa_emirados_brl_mes_max / (40 * 4)\n",
        "\n",
        "print(\"Emirados Árabes (USD -> BRL):\\n\")\n",
        "print(f\"Por hora (mínimo): R$ {bolsa_emirados_brl_hora_min:.2f}\")\n",
        "print(f\"Por mês (mínimo): R$ {bolsa_emirados_brl_mes_min:.2f}\")\n",
        "print(f\"Por ano (mínimo): R$ {bolsa_emirados_brl_ano_min:.2f}\")\n",
        "print(f\"\\nPor hora (máximo): R$ {bolsa_emirados_brl_hora_max:.2f}\")\n",
        "print(f\"Por mês (máximo): R$ {bolsa_emirados_brl_mes_max:.2f}\")\n",
        "print(f\"Por ano (máximo): R$ {bolsa_emirados_brl_ano_max:.2f}\")"
      ],
      "metadata": {
        "colab": {
          "base_uri": "https://localhost:8080/"
        },
        "id": "cxId3Jlvhwh3",
        "outputId": "01efa6f6-3b9b-4962-dacb-20de0e1c3ccc"
      },
      "id": "cxId3Jlvhwh3",
      "execution_count": null,
      "outputs": [
        {
          "output_type": "stream",
          "name": "stdout",
          "text": [
            "Emirados Árabes (USD -> BRL):\n",
            "\n",
            "Por hora (mínimo): R$ 77.17\n",
            "Por mês (mínimo): R$ 12347.72\n",
            "Por ano (mínimo): R$ 148172.64\n",
            "\n",
            "Por hora (máximo): R$ 94.71\n",
            "Por mês (máximo): R$ 15154.02\n",
            "Por ano (máximo): R$ 181848.24\n"
          ]
        }
      ]
    },
    {
      "cell_type": "markdown",
      "source": [
        "### *Cálculo para os Estados Unidos (USD -> BRL)*"
      ],
      "metadata": {
        "id": "zBaz1WhBhwMf"
      },
      "id": "zBaz1WhBhwMf"
    },
    {
      "cell_type": "code",
      "source": [
        "# Valor da bolsa nos EUA\n",
        "bolsa_eua_usd = 5000  # valor durante o verão em dólares\n",
        "\n",
        "# Cálculo do valor das bolsas convertidas para reais - EUA\n",
        "bolsa_eua_brl = bolsa_eua_usd * usd_to_brl\n",
        "\n",
        "print(\"Estados Unidos (USD -> BRL):\\n\")\n",
        "print(f\"Valor total durante o verão: R$ {bolsa_eua_brl:.2f}\")"
      ],
      "metadata": {
        "colab": {
          "base_uri": "https://localhost:8080/"
        },
        "id": "kNzHaEfyh2Hv",
        "outputId": "9c9cf7f2-0e22-4a5b-d93c-062a50dfaf87"
      },
      "id": "kNzHaEfyh2Hv",
      "execution_count": null,
      "outputs": [
        {
          "output_type": "stream",
          "name": "stdout",
          "text": [
            "Estados Unidos (USD -> BRL):\n",
            "\n",
            "Valor total durante o verão: R$ 28063.00\n"
          ]
        }
      ]
    },
    {
      "cell_type": "markdown",
      "source": [],
      "metadata": {
        "id": "29o020epeLpy"
      },
      "id": "29o020epeLpy"
    },
    {
      "cell_type": "markdown",
      "id": "6ef43db1-287d-4f6a-b395-4c582f90cceb",
      "metadata": {
        "id": "6ef43db1-287d-4f6a-b395-4c582f90cceb"
      },
      "source": [
        "# **2. Estruturas de Decisão**"
      ]
    },
    {
      "cell_type": "markdown",
      "source": [
        "## **Exercício 1**"
      ],
      "metadata": {
        "id": "jqAUe9eKkcqu"
      },
      "id": "jqAUe9eKkcqu"
    },
    {
      "cell_type": "markdown",
      "source": [
        "Escreva código em uma célula, para, dado o elemento de uma lista de temperaturas acima, imprimir \"está frio\" se a temperatura for menor que um valor de uma variável `t` definida por você ou \"está calor\" caso contrário\n"
      ],
      "metadata": {
        "id": "qeKj7N3ZkhTc"
      },
      "id": "qeKj7N3ZkhTc"
    },
    {
      "cell_type": "markdown",
      "source": [
        "### *Definindo a lista de temperaturas e a variável*"
      ],
      "metadata": {
        "id": "YUQTBRkdk8iE"
      },
      "id": "YUQTBRkdk8iE"
    },
    {
      "cell_type": "code",
      "source": [
        "# Lista de temperaturas\n",
        "temperaturas = [12, 25, 30, 18, 15, 29, 22, 35, 10]\n",
        "\n",
        "# Variável de limite de temperatura\n",
        "t = 20  # Temperatura de referência\n"
      ],
      "metadata": {
        "id": "vVKcAnAYk760"
      },
      "id": "vVKcAnAYk760",
      "execution_count": null,
      "outputs": []
    },
    {
      "cell_type": "markdown",
      "source": [
        "### *Estrutura de decisão para verificar cada temperatura*"
      ],
      "metadata": {
        "id": "dIsia0k0lHI0"
      },
      "id": "dIsia0k0lHI0"
    },
    {
      "cell_type": "code",
      "source": [
        "# Verificando cada temperatura na lista e imprimir se está frio ou calor\n",
        "for temp in temperaturas:\n",
        "    if temp < t:\n",
        "        print(f\"{temp}°C: Está frio\")\n",
        "    else:\n",
        "        print(f\"{temp}°C: Está calor\")"
      ],
      "metadata": {
        "id": "Ed5LiWyqkbfP"
      },
      "id": "Ed5LiWyqkbfP",
      "execution_count": null,
      "outputs": []
    },
    {
      "cell_type": "markdown",
      "source": [
        "## **Exercício 2**"
      ],
      "metadata": {
        "id": "P8A0G387li5T"
      },
      "id": "P8A0G387li5T"
    },
    {
      "cell_type": "markdown",
      "id": "13f58528-6925-40e6-987b-00762ac5078c",
      "metadata": {
        "id": "13f58528-6925-40e6-987b-00762ac5078c"
      },
      "source": [
        "Um posto está vendendo combustíveis com a seguinte tabela de descontos:\n",
        "\n",
        "**Álcool:**\n",
        "* Até 20 litros, desconto de 3% por litro;\n",
        "* Acima de 20 litros, desconto de 5% por litro.\n",
        "\n",
        "**Gasolina:**\n",
        "* Até 20 litros, desconto de 4% por litro;\n",
        "* Acima de 20 litros, desconto de 6% por litro.\n",
        "\n",
        "Escreva um código que leia o número de litros vendidos, o tipo de combustível (codificado da seguinte forma: `A-álcool, G-gasolina`), calcule e imprima o valor a ser pago pelo cliente sabendo-se que o preço do litro da gasolina é `R$ 2,50` o preço do litro do álcool é `R$ 1,90`."
      ]
    },
    {
      "cell_type": "markdown",
      "source": [
        "### *Definindo as constantes dos preços e solicitando entradas do usuário*"
      ],
      "metadata": {
        "id": "l9wuMlzzmN6r"
      },
      "id": "l9wuMlzzmN6r"
    },
    {
      "cell_type": "code",
      "source": [
        "# Definir os preços por litro\n",
        "preco_gasolina = 2.50\n",
        "preco_alcool = 1.90\n",
        "\n",
        "# Solicitar o número de litros vendidos e o tipo de combustível\n",
        "litros_vendidos = float(input(\"Digite a quantidade de litros vendidos: \"))\n",
        "tipo_combustivel = input(\"Digite o tipo de combustível (A para álcool, G para gasolina): \").upper()\n"
      ],
      "metadata": {
        "colab": {
          "base_uri": "https://localhost:8080/"
        },
        "id": "gh8Ki945mUf7",
        "outputId": "24b04c1e-85e3-44b3-f6c8-dc0f5644e736"
      },
      "id": "gh8Ki945mUf7",
      "execution_count": null,
      "outputs": [
        {
          "name": "stdout",
          "output_type": "stream",
          "text": [
            "Digite a quantidade de litros vendidos: 25\n",
            "Digite o tipo de combustível (A para álcool, G para gasolina): A\n"
          ]
        }
      ]
    },
    {
      "cell_type": "markdown",
      "source": [
        "### *Calculando o desconto e o valor a ser pago*"
      ],
      "metadata": {
        "id": "8zbFdMHwmYzr"
      },
      "id": "8zbFdMHwmYzr"
    },
    {
      "cell_type": "code",
      "source": [
        "# Inicializar o valor total a ser pago\n",
        "valor_total = 0\n",
        "nome_combustivel = \"\"\n",
        "\n",
        "# Calcular o valor a ser pago para álcool\n",
        "if tipo_combustivel == 'A':\n",
        "    nome_combustivel = \"Álcool\"\n",
        "    if litros_vendidos <= 20:\n",
        "        desconto = 0.03  # 3% de desconto por litro\n",
        "    else:\n",
        "        desconto = 0.05  # 5% de desconto por litro\n",
        "    valor_total = litros_vendidos * preco_alcool * (1 - desconto)\n",
        "\n",
        "# Calcular o valor a ser pago para gasolina\n",
        "elif tipo_combustivel == 'G':\n",
        "    nome_combustivel = \"Gasolina\"\n",
        "    if litros_vendidos <= 20:\n",
        "        desconto = 0.04  # 4% de desconto por litro\n",
        "    else:\n",
        "        desconto = 0.06  # 6% de desconto por litro\n",
        "    valor_total = litros_vendidos * preco_gasolina * (1 - desconto)\n",
        "\n",
        "# Caso o tipo de combustível não seja válido\n",
        "else:\n",
        "    print(\"Tipo de combustível inválido.\")"
      ],
      "metadata": {
        "id": "4WC6Dujomd8c"
      },
      "id": "4WC6Dujomd8c",
      "execution_count": null,
      "outputs": []
    },
    {
      "cell_type": "markdown",
      "source": [
        "### *Imprimindo o valor total a ser pago*"
      ],
      "metadata": {
        "id": "IRlYYA8DmmL9"
      },
      "id": "IRlYYA8DmmL9"
    },
    {
      "cell_type": "code",
      "source": [
        "# Verificar se o valor total foi calculado e exibir o resultado\n",
        "if valor_total > 0:\n",
        "    print(f\"Combustível: {nome_combustivel}\")\n",
        "    print(f\"Litros vendidos: {litros_vendidos:.2f}\")\n",
        "    print(f\"Valor a ser pago: R$ {valor_total:.2f}\")"
      ],
      "metadata": {
        "colab": {
          "base_uri": "https://localhost:8080/"
        },
        "id": "3wcmEiypmmyL",
        "outputId": "25f8aa41-50c5-4418-e9e1-de2e28433230"
      },
      "id": "3wcmEiypmmyL",
      "execution_count": null,
      "outputs": [
        {
          "output_type": "stream",
          "name": "stdout",
          "text": [
            "Combustível: Álcool\n",
            "Litros vendidos: 25.00\n",
            "Valor a ser pago: R$ 45.12\n"
          ]
        }
      ]
    },
    {
      "cell_type": "markdown",
      "source": [
        "## **Exercício 3**"
      ],
      "metadata": {
        "id": "RaPtH2QEnJ_7"
      },
      "id": "RaPtH2QEnJ_7"
    },
    {
      "cell_type": "markdown",
      "source": [
        "Uma fruteira está vendendo frutas com a seguinte tabela de preços:\n",
        "\n",
        "```\n",
        "                Até 5kg   | Acima de 5kg\n",
        "Morango:   R$ 2,50 por kg | R$ 2,20 por kg\n",
        "Maça:      R$ 1,80 por kg | R$ 1,50 por kg\n",
        "```\n",
        "\n",
        "Se o cliente comprar mais de `8kg` em frutas ou o valor total da compra ultrapassar `R$ 25,00`, receberá ainda um desconto de `10%` sobre este total.\n",
        "\n",
        "Escreva código para ler a quantidade (em kg) de morangos e a quantidade (em kg) de maçãs adquiridas e escreva o valor a ser pago pelo cliente.\n"
      ],
      "metadata": {
        "id": "bpgQdGqtnVHy"
      },
      "id": "bpgQdGqtnVHy"
    },
    {
      "cell_type": "markdown",
      "source": [
        "### *Definir preços e solicitar entradas do usuário*"
      ],
      "metadata": {
        "id": "Uuqj2JVMoT9i"
      },
      "id": "Uuqj2JVMoT9i"
    },
    {
      "cell_type": "code",
      "source": [
        "# Definir os preços por kg\n",
        "preco_morango_ate_5kg = 2.50\n",
        "preco_morango_acima_5kg = 2.20\n",
        "preco_maca_ate_5kg = 1.80\n",
        "preco_maca_acima_5kg = 1.50\n",
        "\n",
        "# Solicitar a quantidade de morangos e maçãs adquiridas\n",
        "kg_morango = float(input(\"Digite a quantidade de morangos em kg: \"))\n",
        "kg_maca = float(input(\"Digite a quantidade de maçãs em kg: \"))\n"
      ],
      "metadata": {
        "id": "yIPj9Nsboc4x"
      },
      "id": "yIPj9Nsboc4x",
      "execution_count": null,
      "outputs": []
    },
    {
      "cell_type": "markdown",
      "source": [
        "### *Calcular o valor total sem desconto*"
      ],
      "metadata": {
        "id": "WVpFCirBoWMi"
      },
      "id": "WVpFCirBoWMi"
    },
    {
      "cell_type": "code",
      "source": [
        "# Calcular o valor dos morangos\n",
        "if kg_morango <= 5:\n",
        "    valor_morango = kg_morango * preco_morango_ate_5kg\n",
        "else:\n",
        "    valor_morango = kg_morango * preco_morango_acima_5kg\n",
        "\n",
        "# Calcular o valor das maçãs\n",
        "if kg_maca <= 5:\n",
        "    valor_maca = kg_maca * preco_maca_ate_5kg\n",
        "else:\n",
        "    valor_maca = kg_maca * preco_maca_acima_5kg\n",
        "\n",
        "# Calcular o valor total da compra\n",
        "valor_total = valor_morango + valor_maca"
      ],
      "metadata": {
        "id": "GdW-Oc5UofTr"
      },
      "id": "GdW-Oc5UofTr",
      "execution_count": null,
      "outputs": []
    },
    {
      "cell_type": "markdown",
      "source": [
        "### *Aplicar desconto, se aplicável, e imprimir o resultado*"
      ],
      "metadata": {
        "id": "O6xbBPLIoZCy"
      },
      "id": "O6xbBPLIoZCy"
    },
    {
      "cell_type": "code",
      "source": [
        "# Aplicar desconto se a quantidade total for maior que 8kg ou o valor total ultrapassar R$ 25,00\n",
        "if (kg_morango + kg_maca > 8) or (valor_total > 25.00):\n",
        "    valor_total *= 0.90  # aplicar 10% de desconto\n",
        "\n",
        "# Imprimir o valor total a ser pago\n",
        "print(f\"Valor a ser pago: R$ {valor_total:.2f}\")"
      ],
      "metadata": {
        "id": "aHFXYyWxog8i"
      },
      "id": "aHFXYyWxog8i",
      "execution_count": null,
      "outputs": []
    },
    {
      "cell_type": "markdown",
      "id": "ddfdfbc2-2953-43cd-885c-25423409fd02",
      "metadata": {
        "id": "ddfdfbc2-2953-43cd-885c-25423409fd02"
      },
      "source": [
        "# **3. Estruturas de Repetição**"
      ]
    },
    {
      "cell_type": "markdown",
      "source": [
        "## **Exercício 1**"
      ],
      "metadata": {
        "id": "OtaanEsnozJB"
      },
      "id": "OtaanEsnozJB"
    },
    {
      "cell_type": "markdown",
      "source": [
        "### *Definir a variável `k` e imprimir a tabuada*"
      ],
      "metadata": {
        "id": "rdwD0j-7pPXY"
      },
      "id": "rdwD0j-7pPXY"
    },
    {
      "cell_type": "code",
      "source": [
        "# Definir a variável k\n",
        "k = int(input(\"Digite um número inteiro entre 1 e 10: \"))\n",
        "\n",
        "# Verificar se o número está dentro do intervalo permitido\n",
        "if 1 <= k <= 10:\n",
        "    print(f\"\\nTabuada do {k}:\")\n",
        "\n",
        "    # Gerar a tabuada de k\n",
        "    for i in range(1, 11):\n",
        "        resultado = k * i\n",
        "        print(f\"{k} X {i} = {resultado}\")\n",
        "else:\n",
        "    print(\"\\nPor favor, digite um número entre 1 e 10.\")\n"
      ],
      "metadata": {
        "colab": {
          "base_uri": "https://localhost:8080/"
        },
        "id": "XY_t2hWrpVQw",
        "outputId": "28641f23-7cc7-4d5c-bf5a-1c3a49041195"
      },
      "id": "XY_t2hWrpVQw",
      "execution_count": null,
      "outputs": [
        {
          "output_type": "stream",
          "name": "stdout",
          "text": [
            "Digite um número inteiro entre 1 e 10: 5\n",
            "\n",
            "Tabuada do 5:\n",
            "5 X 1 = 5\n",
            "5 X 2 = 10\n",
            "5 X 3 = 15\n",
            "5 X 4 = 20\n",
            "5 X 5 = 25\n",
            "5 X 6 = 30\n",
            "5 X 7 = 35\n",
            "5 X 8 = 40\n",
            "5 X 9 = 45\n",
            "5 X 10 = 50\n"
          ]
        }
      ]
    },
    {
      "cell_type": "markdown",
      "id": "03c2aee5-88fe-4412-9a68-19d74d083697",
      "metadata": {
        "id": "03c2aee5-88fe-4412-9a68-19d74d083697"
      },
      "source": [
        "## **Exercício 2**"
      ]
    },
    {
      "cell_type": "markdown",
      "source": [
        "Utilize uma estrutura de repetição para imprimir todos os elementos das listas de temperatura e altura criadas acima"
      ],
      "metadata": {
        "id": "nNKgVq__sZjn"
      },
      "id": "nNKgVq__sZjn"
    },
    {
      "cell_type": "markdown",
      "source": [
        "### *Lista de Temperaturas*"
      ],
      "metadata": {
        "id": "my19FfurtBWu"
      },
      "id": "my19FfurtBWu"
    },
    {
      "cell_type": "code",
      "source": [
        "for pais, temp_min, temp_max in paises_temperaturas:\n",
        "    print(f\"{pais} {temp_min} {temp_max}\")"
      ],
      "metadata": {
        "colab": {
          "base_uri": "https://localhost:8080/"
        },
        "id": "VAr1dRzmtBqm",
        "outputId": "ced9ac63-a019-4309-8365-c636e63f977d"
      },
      "id": "VAr1dRzmtBqm",
      "execution_count": null,
      "outputs": [
        {
          "output_type": "stream",
          "name": "stdout",
          "text": [
            "Afeganistão -52.2 49.9\n",
            "África do Sul -20.1 50.0\n",
            "Bélgica -30.1 40.7\n",
            "Brasil -14.0 44.8\n",
            "China -52.3 50.3\n",
            "Emirados Árabes Unidos -1.0 52.1\n",
            "Espanha -30.0 47.2\n",
            "Índia -33.9 51.0\n",
            "Japão -41.0 41.0\n",
            "Rússia -67.8 45.4\n"
          ]
        }
      ]
    },
    {
      "cell_type": "markdown",
      "source": [
        "### *Dicionário de Países*"
      ],
      "metadata": {
        "id": "FDD9Ql1QtHVO"
      },
      "id": "FDD9Ql1QtHVO"
    },
    {
      "cell_type": "code",
      "source": [
        "for pais, altura in alturas_paises.items():\n",
        "    print(f\"{pais} {altura:.2f}\")"
      ],
      "metadata": {
        "colab": {
          "base_uri": "https://localhost:8080/"
        },
        "id": "Vmw8jgW5tKle",
        "outputId": "49ae7b82-3fa4-4dde-b89e-8985195f6f8d"
      },
      "id": "Vmw8jgW5tKle",
      "execution_count": null,
      "outputs": [
        {
          "output_type": "stream",
          "name": "stdout",
          "text": [
            "Alemanha 1.81\n",
            "Brasil 1.74\n",
            "China 1.72\n",
            "Espanha 1.76\n",
            "França 1.74\n",
            "Grécia 1.78\n",
            "Índia 1.65\n",
            "Japão 1.71\n",
            "Rússia 1.76\n",
            "Suécia 1.80\n"
          ]
        }
      ]
    },
    {
      "cell_type": "markdown",
      "id": "586e4123-4dec-438e-90ad-c8afc8ebe813",
      "metadata": {
        "id": "586e4123-4dec-438e-90ad-c8afc8ebe813"
      },
      "source": [
        "## **Exercício 3**"
      ]
    },
    {
      "cell_type": "markdown",
      "source": [
        "Acesse chaves e valores do dicionário criado acima, e imprima cada item utilizando o operador de formatação."
      ],
      "metadata": {
        "id": "Kla2eZystsD2"
      },
      "id": "Kla2eZystsD2"
    },
    {
      "cell_type": "code",
      "execution_count": null,
      "id": "dc1b0484-ac86-4aca-8964-1c97c2ff62f6",
      "metadata": {
        "colab": {
          "base_uri": "https://localhost:8080/"
        },
        "id": "dc1b0484-ac86-4aca-8964-1c97c2ff62f6",
        "outputId": "c4b07ccf-5da2-4a4b-c4e7-23101e78e7f5"
      },
      "outputs": [
        {
          "output_type": "stream",
          "name": "stdout",
          "text": [
            "Alturas médias dos países:\n",
            "\n",
            "Alemanha: Altura média = 1.81 m\n",
            "Brasil: Altura média = 1.74 m\n",
            "China: Altura média = 1.72 m\n",
            "Espanha: Altura média = 1.76 m\n",
            "França: Altura média = 1.74 m\n",
            "Grécia: Altura média = 1.78 m\n",
            "Índia: Altura média = 1.65 m\n",
            "Japão: Altura média = 1.71 m\n",
            "Rússia: Altura média = 1.76 m\n",
            "Suécia: Altura média = 1.80 m\n"
          ]
        }
      ],
      "source": [
        "# Imprimir chaves e valores do dicionário\n",
        "print(\"Alturas médias dos países:\\n\")\n",
        "for pais in alturas_paises:\n",
        "    altura = alturas_paises[pais]\n",
        "    print(\"%s: Altura média = %.2f m\" % (pais, altura))"
      ]
    },
    {
      "cell_type": "markdown",
      "id": "40d6de3e-0784-40d2-af9a-6d905aac61e1",
      "metadata": {
        "id": "40d6de3e-0784-40d2-af9a-6d905aac61e1"
      },
      "source": [
        "# **4. Funções**"
      ]
    },
    {
      "cell_type": "markdown",
      "source": [
        "## **Exercício 1**"
      ],
      "metadata": {
        "id": "lDrBN-bHurlV"
      },
      "id": "lDrBN-bHurlV"
    },
    {
      "cell_type": "markdown",
      "source": [
        "Faça uma função que retorne o reverso de um número inteiro informado.\n",
        "\n",
        "Por exemplo: 127 -> 721."
      ],
      "metadata": {
        "id": "3Hlvxtffuwrd"
      },
      "id": "3Hlvxtffuwrd"
    },
    {
      "cell_type": "code",
      "source": [
        "def reverso_numero(numero):\n",
        "    return int(str(numero)[::-1]) # Converte o número para string, reverte a string (com fatiamento ::-1) e depois converte de volta para inteiro\n",
        "\n",
        "numero_informado = int(input(\"Digite o número desejado: \"))\n",
        "numero_reverso = reverso_numero(numero_informado)\n",
        "print(f\"\\nNúmero informado: {numero_informado} -> Número reverso: {numero_reverso}\")"
      ],
      "metadata": {
        "colab": {
          "base_uri": "https://localhost:8080/"
        },
        "id": "6R-rsNE7u-id",
        "outputId": "d6577abc-5961-4b40-e614-160e3f8fce40"
      },
      "id": "6R-rsNE7u-id",
      "execution_count": null,
      "outputs": [
        {
          "output_type": "stream",
          "name": "stdout",
          "text": [
            "Digite o número desejado: 524\n",
            "\n",
            "Número informado: 524 -> Número reverso: 425\n"
          ]
        }
      ]
    },
    {
      "cell_type": "markdown",
      "id": "8d43c338-b8dc-4d90-8507-42f3f4ca39bb",
      "metadata": {
        "id": "8d43c338-b8dc-4d90-8507-42f3f4ca39bb"
      },
      "source": [
        "## **Exercício 2**\n",
        "\n"
      ]
    },
    {
      "cell_type": "markdown",
      "source": [
        "Faça uma função para converter, que dado um valor numérico de temperatura e um valor de caractere para a escala (Celsius ou Farenheit) converta o número para a escala desejada e retorna o valor."
      ],
      "metadata": {
        "id": "pLyBxMWYvkfU"
      },
      "id": "pLyBxMWYvkfU"
    },
    {
      "cell_type": "code",
      "source": [
        "def converter_temperatura(valor, escala):\n",
        "    if escala.upper() == 'C':\n",
        "        # Converte de Fahrenheit para Celsius\n",
        "        return (valor - 32) * 5.0 / 9.0\n",
        "    elif escala.upper() == 'F':\n",
        "        # Converte de Celsius para Fahrenheit\n",
        "        return (valor * 9.0 / 5.0) + 32\n",
        "    else:\n",
        "        raise ValueError(\"Escala inválida. Use 'C' para Celsius ou 'F' para Fahrenheit.\")\n",
        "\n",
        "# Solicitando a entrada do usuário\n",
        "try:\n",
        "    temperatura = float(input(\"Informe o valor da temperatura: \"))\n",
        "    escala_desejada = input(\"Informe a escala para conversão ('C' para Celsius, 'F' para Fahrenheit): \")\n",
        "\n",
        "    # Realizando a conversão\n",
        "    temperatura_convertida = converter_temperatura(temperatura, escala_desejada)\n",
        "\n",
        "    # Imprimindo o resultado\n",
        "    print(f\"{temperatura}°{escala_desejada.upper()} -> {temperatura_convertida:.2f}°{'C' if escala_desejada.upper() == 'F' else 'F'}\")\n",
        "\n",
        "except ValueError as e:\n",
        "    print(f\"Erro: {e}\")\n"
      ],
      "metadata": {
        "colab": {
          "base_uri": "https://localhost:8080/"
        },
        "id": "QGMV4eG7viuU",
        "outputId": "5892575b-c642-4cbd-c8f9-30ae90ccef7c"
      },
      "id": "QGMV4eG7viuU",
      "execution_count": null,
      "outputs": [
        {
          "output_type": "stream",
          "name": "stdout",
          "text": [
            "Informe o valor da temperatura: 0\n",
            "Informe a escala para conversão ('C' para Celsius, 'F' para Fahrenheit): C\n",
            "0.0°C -> -17.78°F\n"
          ]
        }
      ]
    },
    {
      "cell_type": "markdown",
      "id": "f16bf1c0-7446-4ed1-9a36-0b6523f8c45d",
      "metadata": {
        "id": "f16bf1c0-7446-4ed1-9a36-0b6523f8c45d"
      },
      "source": [
        "## **Exercício 3**"
      ]
    },
    {
      "cell_type": "markdown",
      "source": [
        "Faça uma programa que converta da notação de 24 horas para a notação de 12 horas. Por exemplo, o programa deve converter 14:25 em 2:25 P.M.\n",
        "\n",
        "A entrada é dada em dois inteiros."
      ],
      "metadata": {
        "id": "4NqgaHS2weDL"
      },
      "id": "4NqgaHS2weDL"
    },
    {
      "cell_type": "code",
      "execution_count": null,
      "id": "28c880ae-eacb-448a-b18c-09973710ef8a",
      "metadata": {
        "colab": {
          "base_uri": "https://localhost:8080/"
        },
        "id": "28c880ae-eacb-448a-b18c-09973710ef8a",
        "outputId": "aa79b7f2-d977-439e-883a-d9fcbfb59e8c"
      },
      "outputs": [
        {
          "output_type": "stream",
          "name": "stdout",
          "text": [
            "Informe a hora (0-23): 14\n",
            "Informe os minutos (0-59): 25\n",
            "A hora convertida é: 2:25 P.M.\n"
          ]
        }
      ],
      "source": [
        "def converter_hora_24_para_12(hora, minuto):\n",
        "    if hora < 0 or hora > 23 or minuto < 0 or minuto > 59:\n",
        "        raise ValueError(\"Hora deve estar entre 0 e 23 e minuto entre 0 e 59.\")\n",
        "\n",
        "    periodo = \"A.M.\" if hora < 12 else \"P.M.\"\n",
        "\n",
        "    # Ajusta a hora para o formato de 12 horas\n",
        "    hora_12 = hora % 12\n",
        "    hora_12 = 12 if hora_12 == 0 else hora_12  # Converte 0 para 12\n",
        "\n",
        "    return f\"{hora_12}:{minuto:02d} {periodo}\"\n",
        "\n",
        "# Solicitando entrada do usuário\n",
        "try:\n",
        "    hora_input = int(input(\"Informe a hora (0-23): \"))\n",
        "    minuto_input = int(input(\"Informe os minutos (0-59): \"))\n",
        "\n",
        "    # Realizando a conversão\n",
        "    hora_convertida = converter_hora_24_para_12(hora_input, minuto_input)\n",
        "\n",
        "    # Imprimindo o resultado\n",
        "    print(f\"A hora convertida é: {hora_convertida}\")\n",
        "\n",
        "except ValueError as e:\n",
        "    print(f\"Erro: {e}\")"
      ]
    },
    {
      "cell_type": "markdown",
      "id": "7a2f0bc7-7ca1-48f2-bdff-7d633ffcf759",
      "metadata": {
        "id": "7a2f0bc7-7ca1-48f2-bdff-7d633ffcf759"
      },
      "source": [
        "# **5. Numpy**"
      ]
    },
    {
      "cell_type": "markdown",
      "source": [
        "## **Exercício 1**"
      ],
      "metadata": {
        "id": "07tps52Yw4Db"
      },
      "id": "07tps52Yw4Db"
    },
    {
      "cell_type": "markdown",
      "source": [
        "Escreva código para criar uma matriz 4 x 10, com números simulados de uma distribuição normal com média 10 e variância 5, e substitua todos os elementos da primeira coluna maiores que 12 por 0."
      ],
      "metadata": {
        "id": "2wmgfomuwxzi"
      },
      "id": "2wmgfomuwxzi"
    },
    {
      "cell_type": "code",
      "source": [
        "import numpy as np"
      ],
      "metadata": {
        "id": "DNSNEpO9xVJK"
      },
      "id": "DNSNEpO9xVJK",
      "execution_count": null,
      "outputs": []
    },
    {
      "cell_type": "code",
      "source": [
        "# Definindo parâmetros da distribuição normal\n",
        "media = 10\n",
        "variancia = 5\n",
        "desvio_padrao = np.sqrt(variancia)"
      ],
      "metadata": {
        "id": "uEiZp5sExWa8"
      },
      "id": "uEiZp5sExWa8",
      "execution_count": null,
      "outputs": []
    },
    {
      "cell_type": "code",
      "source": [
        "# Criando a matriz 4 x 10 com números da distribuição normal e convertendo para inteiros\n",
        "matriz = np.random.normal(media, desvio_padrao, (4, 10))\n",
        "matriz = np.round(matriz).astype(int)  # Arredondando e convertendo para inteiros"
      ],
      "metadata": {
        "id": "6l4Jdr0qxZqT"
      },
      "id": "6l4Jdr0qxZqT",
      "execution_count": null,
      "outputs": []
    },
    {
      "cell_type": "code",
      "source": [
        "# Exibindo a matriz original\n",
        "print(\"Matriz original:\")\n",
        "print(matriz)"
      ],
      "metadata": {
        "colab": {
          "base_uri": "https://localhost:8080/"
        },
        "id": "ZM1wSm_pxMUb",
        "outputId": "3979cd45-110a-45c2-9512-81599436224f"
      },
      "id": "ZM1wSm_pxMUb",
      "execution_count": null,
      "outputs": [
        {
          "output_type": "stream",
          "name": "stdout",
          "text": [
            "Matriz original:\n",
            "[[ 6 13 12  6 13 13 14 13 11 11]\n",
            " [ 5 10  7  7 12  8  9  9 11 11]\n",
            " [12  8 10 11  8 11 11 11  9  9]\n",
            " [14 11 11  8  8  9 11 11 11  8]]\n"
          ]
        }
      ]
    },
    {
      "cell_type": "code",
      "source": [
        "# Substituindo elementos da primeira coluna maiores que 12 por 0\n",
        "matriz[matriz[:, 0] > 12, 0] = 0"
      ],
      "metadata": {
        "id": "nTQ-MAMwxcOr"
      },
      "id": "nTQ-MAMwxcOr",
      "execution_count": null,
      "outputs": []
    },
    {
      "cell_type": "code",
      "source": [
        "# Exibindo a matriz modificada\n",
        "print(\"\\nMatriz modificada:\")\n",
        "print(matriz)"
      ],
      "metadata": {
        "colab": {
          "base_uri": "https://localhost:8080/"
        },
        "id": "QO5PnrcyxcAz",
        "outputId": "110728ff-f92f-4a6b-938b-f02cb63efd46"
      },
      "id": "QO5PnrcyxcAz",
      "execution_count": null,
      "outputs": [
        {
          "output_type": "stream",
          "name": "stdout",
          "text": [
            "\n",
            "Matriz modificada:\n",
            "[[ 6 13 12  6 13 13 14 13 11 11]\n",
            " [ 5 10  7  7 12  8  9  9 11 11]\n",
            " [12  8 10 11  8 11 11 11  9  9]\n",
            " [ 0 11 11  8  8  9 11 11 11  8]]\n"
          ]
        }
      ]
    },
    {
      "cell_type": "markdown",
      "source": [
        "## **Exercício 2**"
      ],
      "metadata": {
        "id": "J4UHpsjcw900"
      },
      "id": "J4UHpsjcw900"
    },
    {
      "cell_type": "markdown",
      "source": [
        "Crie uma matriz 3x3 com 3 alturas de 3 países e calcule o peso ideal (fórmula acima) para multiplicar e somar aos elementos da matriz."
      ],
      "metadata": {
        "id": "tcFbI0btxAiL"
      },
      "id": "tcFbI0btxAiL"
    },
    {
      "cell_type": "code",
      "source": [
        "import numpy as np"
      ],
      "metadata": {
        "id": "tSajc2K-xM4y"
      },
      "id": "tSajc2K-xM4y",
      "execution_count": null,
      "outputs": []
    },
    {
      "cell_type": "code",
      "source": [
        "# Dicionário com os países e suas respectivas alturas médias (em metros) usado no item 1.2\n",
        "alturas_paises = {\n",
        "    \"Alemanha\": 1.81,\n",
        "    \"Brasil\": 1.739,\n",
        "    \"China\": 1.724,\n",
        "    \"Espanha\": 1.7562,\n",
        "    \"França\": 1.741,\n",
        "    \"Grécia\": 1.7806,\n",
        "    \"Índia\": 1.652,\n",
        "    \"Japão\": 1.7147,\n",
        "    \"Rússia\": 1.76,\n",
        "    \"Suécia\": 1.802\n",
        "}"
      ],
      "metadata": {
        "id": "hT1yfvTLyoBS"
      },
      "id": "hT1yfvTLyoBS",
      "execution_count": null,
      "outputs": []
    },
    {
      "cell_type": "code",
      "source": [
        "# Selecionando 3 países e suas alturas (em metros)\n",
        "paises = [\"Alemanha\", \"Brasil\", \"China\"]\n",
        "alturas = np.array([alturas_paises[pais] for pais in paises]).reshape(3, 1)  # Criando uma matriz 3x1"
      ],
      "metadata": {
        "id": "nHwtANfMywja"
      },
      "id": "nHwtANfMywja",
      "execution_count": null,
      "outputs": []
    },
    {
      "cell_type": "code",
      "source": [
        "# Matriz 3x3, replicando as alturas para ter 3 colunas\n",
        "matriz_alturas = np.tile(alturas, (1, 3))"
      ],
      "metadata": {
        "id": "h7OXjnM9zbBp"
      },
      "id": "h7OXjnM9zbBp",
      "execution_count": null,
      "outputs": []
    },
    {
      "cell_type": "code",
      "source": [
        "# Função para calcular peso ideal\n",
        "def calcular_peso_ideal(altura):\n",
        "    return (altura * 100 - 100) * 0.9  # altura em cm"
      ],
      "metadata": {
        "id": "gdRHQKpfyysq"
      },
      "id": "gdRHQKpfyysq",
      "execution_count": null,
      "outputs": []
    },
    {
      "cell_type": "code",
      "source": [
        "# Calculando o peso ideal para cada altura da matriz\n",
        "peso_ideal = calcular_peso_ideal(matriz_alturas)"
      ],
      "metadata": {
        "id": "IRpYfF1-y6my"
      },
      "id": "IRpYfF1-y6my",
      "execution_count": null,
      "outputs": []
    },
    {
      "cell_type": "code",
      "source": [
        "# Somando o peso ideal aos elementos da matriz\n",
        "matriz_com_peso_ideal = matriz_alturas + peso_ideal"
      ],
      "metadata": {
        "id": "lcid1m5_zgwJ"
      },
      "id": "lcid1m5_zgwJ",
      "execution_count": null,
      "outputs": []
    },
    {
      "cell_type": "code",
      "source": [
        "# Exibindo a matriz original de alturas e a matriz com peso ideal\n",
        "print(\"Matriz de Alturas (em metros):\")\n",
        "print(matriz_alturas)\n",
        "\n",
        "print(\"\\nPeso Ideal (em kg):\")\n",
        "print(peso_ideal)\n",
        "\n",
        "print(\"\\nMatriz com Peso Ideal Adicionado:\")\n",
        "print(matriz_com_peso_ideal)"
      ],
      "metadata": {
        "colab": {
          "base_uri": "https://localhost:8080/"
        },
        "id": "CaFF23HKy7_5",
        "outputId": "2e16c6e6-da06-48b9-82ad-0ae354407b85"
      },
      "id": "CaFF23HKy7_5",
      "execution_count": null,
      "outputs": [
        {
          "output_type": "stream",
          "name": "stdout",
          "text": [
            "Matriz de Alturas (em metros):\n",
            "[[1.81  1.81  1.81 ]\n",
            " [1.739 1.739 1.739]\n",
            " [1.724 1.724 1.724]]\n",
            "\n",
            "Peso Ideal (em kg):\n",
            "[[72.9  72.9  72.9 ]\n",
            " [66.51 66.51 66.51]\n",
            " [65.16 65.16 65.16]]\n",
            "\n",
            "Matriz com Peso Ideal Adicionado:\n",
            "[[74.71  74.71  74.71 ]\n",
            " [68.249 68.249 68.249]\n",
            " [66.884 66.884 66.884]]\n"
          ]
        }
      ]
    },
    {
      "cell_type": "markdown",
      "source": [
        "## **Exercício 3**"
      ],
      "metadata": {
        "id": "fbNR5OW_xEkK"
      },
      "id": "fbNR5OW_xEkK"
    },
    {
      "cell_type": "markdown",
      "source": [
        "Faça uma função que recebe dois parâmetros, uma matriz numpy e uma constante, e utiliza estruturas de repetição para multiplicar cada elemento da matriz e retorna a matriz multiplicada."
      ],
      "metadata": {
        "id": "sNPEpMZJxG2r"
      },
      "id": "sNPEpMZJxG2r"
    },
    {
      "cell_type": "code",
      "source": [
        "import numpy as np\n",
        "\n",
        "def multiplicar_matriz_por_constante(matriz, constante):\n",
        "    # Cria uma matriz resultante com o mesmo formato da matriz original\n",
        "    matriz_resultante = np.zeros(matriz.shape)\n",
        "\n",
        "    # Estruturas de repetição para percorrer a matriz\n",
        "    for i in range(matriz.shape[0]):  # Percorrendo as linhas\n",
        "        for j in range(matriz.shape[1]):  # Percorrendo as colunas\n",
        "            matriz_resultante[i][j] = matriz[i][j] * constante  # Multiplicando o elemento pela constante\n",
        "\n",
        "    return matriz_resultante\n",
        "\n",
        "# Inputs para definir a quantidade de linhas e colunas\n",
        "linhas = int(input(\"Informe a quantidade de linhas da matriz: \"))\n",
        "colunas = int(input(\"Informe a quantidade de colunas da matriz: \"))\n",
        "\n",
        "# Inicializa uma lista para armazenar os elementos da matriz\n",
        "elementos_matriz = []\n",
        "\n",
        "# Loop para receber os elementos da matriz\n",
        "print(f\"\\nInforme os elementos da matriz {linhas}x{colunas}, separados por espaço (total de {linhas * colunas} elementos):\")\n",
        "for i in range(linhas):\n",
        "    linha = input(f\"Linha {i + 1}: \").strip().split()\n",
        "    elementos_matriz.append([int(x) for x in linha])  # Converte os elementos para inteiros\n",
        "\n",
        "# Converte a lista de listas em uma matriz NumPy\n",
        "matriz_exemplo = np.array(elementos_matriz)\n",
        "\n",
        "# Input para a constante\n",
        "constante = int(input(\"\\nInforme a constante: \"))\n",
        "\n",
        "# Chamando a função\n",
        "resultado = multiplicar_matriz_por_constante(matriz_exemplo, constante)\n",
        "\n",
        "# Exibindo a matriz original e a matriz resultante\n",
        "print(\"\\nMatriz Original:\")\n",
        "print(matriz_exemplo)\n",
        "\n",
        "print(f\"\\nMatriz Resultante após multiplicação por {constante}:\")\n",
        "print(resultado)\n"
      ],
      "metadata": {
        "colab": {
          "base_uri": "https://localhost:8080/"
        },
        "id": "Ij88v8BJxNsb",
        "outputId": "17733ea0-f534-4e4b-ee12-27e02a8ccdff"
      },
      "id": "Ij88v8BJxNsb",
      "execution_count": null,
      "outputs": [
        {
          "output_type": "stream",
          "name": "stdout",
          "text": [
            "Informe a quantidade de linhas da matriz: 3\n",
            "Informe a quantidade de colunas da matriz: 3\n",
            "\n",
            "Informe os elementos da matriz 3x3, separados por espaço (total de 9 elementos):\n",
            "Linha 1: 1 2 3\n",
            "Linha 2: 4 5 6\n",
            "Linha 3: 7 8 9\n",
            "\n",
            "Informe a constante: 7\n",
            "\n",
            "Matriz Original:\n",
            "[[1 2 3]\n",
            " [4 5 6]\n",
            " [7 8 9]]\n",
            "\n",
            "Matriz Resultante após multiplicação por 7:\n",
            "[[ 7. 14. 21.]\n",
            " [28. 35. 42.]\n",
            " [49. 56. 63.]]\n"
          ]
        }
      ]
    },
    {
      "cell_type": "markdown",
      "id": "db93ae6b-fa1c-4ef9-86d2-06373178fb7a",
      "metadata": {
        "id": "db93ae6b-fa1c-4ef9-86d2-06373178fb7a"
      },
      "source": [
        "# **6. Pandas**"
      ]
    },
    {
      "cell_type": "markdown",
      "source": [
        "## **Pré-configurações**"
      ],
      "metadata": {
        "id": "J0cin-_n5yu8"
      },
      "id": "J0cin-_n5yu8"
    },
    {
      "cell_type": "markdown",
      "source": [
        "### *Importando a biblioteca `pandas`*"
      ],
      "metadata": {
        "id": "IF3qY5A456RE"
      },
      "id": "IF3qY5A456RE"
    },
    {
      "cell_type": "code",
      "source": [
        "import pandas as pd"
      ],
      "metadata": {
        "id": "JEf_YzoY5ZPN"
      },
      "id": "JEf_YzoY5ZPN",
      "execution_count": null,
      "outputs": []
    },
    {
      "cell_type": "markdown",
      "source": [
        "### *Carregando o dataset do Google Drive*"
      ],
      "metadata": {
        "id": "tPEzdX6q5_k0"
      },
      "id": "tPEzdX6q5_k0"
    },
    {
      "cell_type": "code",
      "source": [
        "url = 'https://drive.google.com/uc?id=17meFxdJ0F2Y9-n56DK9Y8fNM-I4bSRCE' # Essa cópia do \"bicicletas.csv\" está hospedada no meu Drive.\n",
        "df = pd.read_csv(url)"
      ],
      "metadata": {
        "id": "SzlVaSKL5cqE"
      },
      "id": "SzlVaSKL5cqE",
      "execution_count": null,
      "outputs": []
    },
    {
      "cell_type": "markdown",
      "source": [
        "## **Exercício 1**"
      ],
      "metadata": {
        "id": "UlU3G6OC3rLt"
      },
      "id": "UlU3G6OC3rLt"
    },
    {
      "cell_type": "markdown",
      "source": [
        "Faça uma função, que dado um dataframe com os dados acima.\n",
        "\n",
        "Imprima a média e o desvio padrão das variáveis `season` e `holiday`."
      ],
      "metadata": {
        "id": "Azb1hZye3zS9"
      },
      "id": "Azb1hZye3zS9"
    },
    {
      "cell_type": "code",
      "source": [
        "# Função para calcular a média e o desvio padrão\n",
        "def estatisticas_season_holiday(df):\n",
        "    media_season = df['season'].mean()\n",
        "    desvio_season = df['season'].std()\n",
        "    media_holiday = df['holiday'].mean()\n",
        "    desvio_holiday = df['holiday'].std()\n",
        "\n",
        "    print(f\"Média da variável 'season': {media_season:.2f}\")\n",
        "    print(f\"Desvio padrão da variável 'season': {desvio_season:.2f}\")\n",
        "    print(f\"\\nMédia da variável 'holiday': {media_holiday:.2f}\")\n",
        "    print(f\"Desvio padrão da variável 'holiday': {desvio_holiday:.2f}\")\n",
        "\n",
        "# Chamando a função\n",
        "estatisticas_season_holiday(df)"
      ],
      "metadata": {
        "colab": {
          "base_uri": "https://localhost:8080/"
        },
        "id": "gjjOAg3t36Jl",
        "outputId": "6169261e-e610-4467-c062-59daf6ea8f67"
      },
      "id": "gjjOAg3t36Jl",
      "execution_count": null,
      "outputs": [
        {
          "output_type": "stream",
          "name": "stdout",
          "text": [
            "Média da variável 'season': 2.51\n",
            "Desvio padrão da variável 'season': 1.12\n",
            "\n",
            "Média da variável 'holiday': 0.03\n",
            "Desvio padrão da variável 'holiday': 0.17\n"
          ]
        }
      ]
    },
    {
      "cell_type": "markdown",
      "source": [
        "## **Exercício 2**"
      ],
      "metadata": {
        "id": "vDnq9mFM3v11"
      },
      "id": "vDnq9mFM3v11"
    },
    {
      "cell_type": "markdown",
      "source": [
        "Crie uma nova coluna no dataframe, com o nome `month` com o mês correspondente de cada linha da coluna `datetime` e escreva uma função que dado um dataframe, e um valor numérico entre 1 e 12, retorna um sub-dataframe para o mês requerido."
      ],
      "metadata": {
        "id": "yQyXqAP_32vd"
      },
      "id": "yQyXqAP_32vd"
    },
    {
      "cell_type": "code",
      "source": [
        "# Adicionando a coluna 'month'\n",
        "df['datetime'] = pd.to_datetime(df['datetime'])  # Certificando que a coluna datetime está no formato correto\n",
        "df['month'] = df['datetime'].dt.month\n",
        "\n",
        "# Função para retornar um sub-dataframe baseado no mês\n",
        "def sub_dataframe_por_mes(df, mes):\n",
        "    if 1 <= mes <= 12:\n",
        "        return df[df['month'] == mes]\n",
        "    else:\n",
        "        raise ValueError(\"O valor do mês deve estar entre 1 e 12.\")\n",
        "\n",
        "mes_requerido = int(input(\"Informe um mês entre 1 e 12: \"))\n",
        "sub_df = sub_dataframe_por_mes(df, mes_requerido)\n",
        "\n",
        "print(f\"\\nSub-dataframe para o mês {mes_requerido}:\")\n",
        "print(sub_df)"
      ],
      "metadata": {
        "colab": {
          "base_uri": "https://localhost:8080/"
        },
        "id": "B923Z1nT4Aat",
        "outputId": "ed2627f0-50bb-4834-c1fc-0b170bc28918"
      },
      "id": "B923Z1nT4Aat",
      "execution_count": null,
      "outputs": [
        {
          "output_type": "stream",
          "name": "stdout",
          "text": [
            "Informe um mês entre 1 e 12: 5\n",
            "\n",
            "Sub-dataframe para o mês 5:\n",
            "                datetime  season  holiday  workingday  weather   temp   atemp  \\\n",
            "1778 2011-05-01 00:00:00       2        0           0        1  17.22  21.210   \n",
            "1779 2011-05-01 01:00:00       2        0           0        1  17.22  21.210   \n",
            "1780 2011-05-01 02:00:00       2        0           0        1  17.22  21.210   \n",
            "1781 2011-05-01 03:00:00       2        0           0        1  16.40  20.455   \n",
            "1782 2011-05-01 04:00:00       2        0           0        1  16.40  20.455   \n",
            "...                  ...     ...      ...         ...      ...    ...     ...   \n",
            "7690 2012-05-19 19:00:00       2        0           0        1  28.70  31.820   \n",
            "7691 2012-05-19 20:00:00       2        0           0        1  27.88  31.820   \n",
            "7692 2012-05-19 21:00:00       2        0           0        1  26.24  31.060   \n",
            "7693 2012-05-19 22:00:00       2        0           0        1  26.24  31.060   \n",
            "7694 2012-05-19 23:00:00       2        0           0        1  24.60  31.060   \n",
            "\n",
            "      humidity  windspeed  casual  registered  count  month  \n",
            "1778        67     6.0032      19          77     96      5  \n",
            "1779        69     7.0015       9          50     59      5  \n",
            "1780        77     7.0015       7          43     50      5  \n",
            "1781        82     7.0015       8          15     23      5  \n",
            "1782        76     7.0015       6          11     17      5  \n",
            "...        ...        ...     ...         ...    ...    ...  \n",
            "7690        39     8.9981     203         229    432      5  \n",
            "7691        41     6.0032     118         197    315      5  \n",
            "7692        50     0.0000      81         178    259      5  \n",
            "7693        47     0.0000     104         234    338      5  \n",
            "7694        56    11.0014      71         168    239      5  \n",
            "\n",
            "[912 rows x 13 columns]\n"
          ]
        }
      ]
    },
    {
      "cell_type": "markdown",
      "source": [
        "## **Exercício 3**"
      ],
      "metadata": {
        "id": "UmNBiDWa3wrV"
      },
      "id": "UmNBiDWa3wrV"
    },
    {
      "cell_type": "markdown",
      "source": [
        "Faça um histograma da variável `temp` e um boxplot único com a variável `temp` em cada `month` *(no eixo x)*."
      ],
      "metadata": {
        "id": "QxHgkgxN342N"
      },
      "id": "QxHgkgxN342N"
    },
    {
      "cell_type": "code",
      "source": [
        "import matplotlib.pyplot as plt\n",
        "import seaborn as sns\n",
        "\n",
        "# Histograma da variável 'temp'\n",
        "plt.figure(figsize=(10, 6))\n",
        "plt.hist(df['temp'], bins=30, color='skyblue', edgecolor='black')\n",
        "plt.title('Histograma da Temperatura (temp)')\n",
        "plt.xlabel('Temperatura')\n",
        "plt.ylabel('Frequência')\n",
        "plt.grid(axis='y', alpha=0.75)\n",
        "plt.show()\n",
        "\n",
        "# Boxplot da variável 'temp' por 'month'\n",
        "plt.figure(figsize=(10, 6))\n",
        "sns.boxplot(x='month', y='temp', data=df, palette='Set2')\n",
        "plt.title('Boxplot da Temperatura (temp) por Mês')\n",
        "plt.xlabel('Mês')\n",
        "plt.ylabel('Temperatura')\n",
        "plt.grid(True)\n",
        "plt.show()"
      ],
      "metadata": {
        "colab": {
          "base_uri": "https://localhost:8080/",
          "height": 1000
        },
        "id": "Zcz8xvd14Hy1",
        "outputId": "1e43ba1c-7279-4bad-f098-f3e5262c8af5"
      },
      "id": "Zcz8xvd14Hy1",
      "execution_count": null,
      "outputs": [
        {
          "output_type": "display_data",
          "data": {
            "text/plain": [
              "<Figure size 1000x600 with 1 Axes>"
            ],
            "image/png": "[encoded data removed]"
          },
          "metadata": {}
        },
        {
          "output_type": "stream",
          "name": "stderr",
          "text": [
            "<ipython-input-111-f67b18c60915>:15: FutureWarning: \n",
            "\n",
            "Passing `palette` without assigning `hue` is deprecated and will be removed in v0.14.0. Assign the `x` variable to `hue` and set `legend=False` for the same effect.\n",
            "\n",
            "  sns.boxplot(x='month', y='temp', data=df, palette='Set2')\n"
          ]
        },
        {
          "output_type": "display_data",
          "data": {
            "text/plain": [
              "<Figure size 1000x600 with 1 Axes>"
            ],
            "image/png": "[encoded data removed]"
          },
          "metadata": {}
        }
      ]
    },
    {
      "cell_type": "markdown",
      "id": "2fc2f084-154b-46d4-8cf6-dd85393b509b",
      "metadata": {
        "id": "2fc2f084-154b-46d4-8cf6-dd85393b509b"
      },
      "source": [
        "# **7. Regressão**"
      ]
    },
    {
      "cell_type": "markdown",
      "source": [
        "Incluir o conjunto de dados na entrega do notebook.\n",
        "\n",
        "Em uma célula do mesmo notebook crie um texto com markdown, incluindo formatação com títulos, negrito, itálico e inclusão de figuras para explicar:\n",
        "\n",
        "Explique simplificadamente o que é o modelo de regressão e quando estes modelos podem ser utilizados.\n",
        "Apresente um pequeno exemplo numérico utilizando o que foi aprendido no curso, utilizando um conjunto de dados que não foi visto no curso (pode ser de qualquer lugar na internet) e imprimindo os seguintes resultados:\n",
        "R2\n",
        "Coeficientes da regressão\n",
        "\n",
        "E fazendo um gráfico com a variável resposta (eixo y) uma das variáveis preditoras (eixo x) e a reta da regressão.\n",
        "\n",
        "*Os conjuntos de dados devem ser diferentes entre os alunos*"
      ],
      "metadata": {
        "id": "J6VzZNXC4pZd"
      },
      "id": "J6VzZNXC4pZd"
    },
    {
      "cell_type": "markdown",
      "source": [
        "## ***Conjunto de Dados***"
      ],
      "metadata": {
        "id": "6btr4ktrKZZv"
      },
      "id": "6btr4ktrKZZv"
    },
    {
      "cell_type": "markdown",
      "source": [
        "### Conjunto de dados utilizado: [**Boston Housing**](https://drive.google.com/uc?id=1Vf599dWdlJl2yw6Uvo5fWQzzymmyiJFz)\n",
        "\n",
        "[*Link no Kaggke*](https://www.kaggle.com/datasets/altavish/boston-housing-dataset)"
      ],
      "metadata": {
        "id": "f5EN3XubK9C-"
      },
      "id": "f5EN3XubK9C-"
    },
    {
      "cell_type": "markdown",
      "source": [
        "### **Visão Geral do Conjunto de Dados Boston Housing**\n",
        "\n",
        "#### **Descrição do Conjunto de Dados**\n",
        "O conjunto de dados **Boston Housing** é um recurso valioso que utilizei em meus estudos de ciência de dados. Ele é amplamente reconhecido e frequentemente empregado em problemas de regressão e aprendizado de máquina. O conjunto contém informações sobre diversos bairros de Boston e suas características, e eu o usei para prever o preço de venda das casas.\n",
        "\n",
        "#### **Características do Conjunto de Dados**\n",
        "Esse conjunto possui **14 colunas** que descrevem várias variáveis:\n",
        "\n",
        "1. **crim**: Taxa de criminalidade per capita por bairro.\n",
        "2. **zn**: Proporção de terrenos residenciais destinados a lotes maiores de 25.000 pés quadrados.\n",
        "3. **indus**: Proporção de acres dedicados a negócios não varejistas por cidade.\n",
        "4. **chas**: Uma variável fictícia que indica se o bairro está ao lado do rio Charles (1) ou não (0).\n",
        "5. **nox**: Concentração de óxidos de nitrogênio (em partes por 10 milhões).\n",
        "6. **rm**: Número médio de quartos por habitação.\n",
        "7. **age**: Proporção de unidades ocupadas por proprietários construídas antes de 1940.\n",
        "8. **dis**: Distâncias ponderadas para cinco centros de emprego em Boston.\n",
        "9. **rad**: Índice de acessibilidade a rodovias radiais.\n",
        "10. **tax**: Taxa de imposto sobre a propriedade de valor total (em 10.000 dólares).\n",
        "11. **ptratio**: Razão de alunos por professor em áreas de ensino.\n",
        "12. **b**: Proporção de negros na cidade.\n",
        "13. **lstat**: Percentual de população de status baixo.\n",
        "14. **medv**: Valor médio das casas ocupadas por proprietários (em 1.000 dólares), que é a variável que buscamos prever.\n",
        "\n",
        "#### **Objetivo do Conjunto de Dados**\n",
        "O objetivo principal do conjunto de dados **Boston Housing** é prever o valor médio das casas (medv) com base nas outras características do bairro. Isso me permitiu aplicar técnicas de regressão e explorar a relação entre as variáveis independentes e a variável dependente.\n",
        "\n",
        "#### **Aplicações e Importância**\n",
        "Durante meus estudos, percebi que o conjunto de dados **Boston Housing** é extremamente útil em várias áreas, como:\n",
        "- **Educação**: Ele é frequentemente utilizado em cursos de ciência de dados, aprendizado de máquina e estatística.\n",
        "- **Testes de Algoritmos**: É uma excelente base para testar e comparar diferentes algoritmos de aprendizado de máquina para regressão.\n",
        "- **Análise Exploratória**: Proporciona insights sobre a correlação entre variáveis e a identificação de padrões nos dados.\n",
        "\n",
        "#### **Limitações**\n",
        "É importante ressaltar que, apesar de ser amplamente utilizado, o conjunto de dados **Boston Housing** também apresenta algumas limitações:\n",
        "- **Tamanho do Conjunto de Dados**: Com apenas 506 observações, pode não ser representativo para generalizações em larga escala.\n",
        "- **Desatualização**: As condições do mercado imobiliário mudaram consideravelmente desde a coleta dos dados na década de 1970.\n",
        "\n",
        "#### **Considerações Finais**\n",
        "No geral, o conjunto de dados **Boston Housing** tem se mostrado uma ferramenta valiosa para meu aprendizado e prática em ciência de dados. Ele oferece uma excelente oportunidade para explorar modelos de regressão, análise estatística e a relação entre variáveis.\n"
      ],
      "metadata": {
        "id": "3LlLFqV5KhM_"
      },
      "id": "3LlLFqV5KhM_"
    },
    {
      "cell_type": "markdown",
      "source": [
        "## ***Markdown***"
      ],
      "metadata": {
        "id": "TlvNwntUGg9q"
      },
      "id": "TlvNwntUGg9q"
    },
    {
      "cell_type": "markdown",
      "source": [
        "### **Modelo de Regressão**\n",
        "\n",
        "Os modelos de regressão são ferramentas estatísticas utilizadas para prever o valor de uma variável dependente (resposta) com base em uma ou mais variáveis independentes (preditoras). A regressão permite identificar relações entre as variáveis, ajudando a entender como as mudanças em uma variável podem afetar outra.\n",
        "\n",
        "#### **Quando Usar Modelos de Regressão?**\n",
        "Os modelos de regressão podem ser utilizados quando se deseja:\n",
        "- **Prever**: Estimar o valor de uma variável com base em dados conhecidos.\n",
        "- **Analisar**: Compreender a relação entre diferentes variáveis.\n",
        "- **Controlar**: Ajustar variáveis independentes para prever a variável dependente.\n",
        "\n",
        "#### **Exemplo Numérico**\n",
        "Utilizaremos o conjunto de dados disponível no Google Drive para demonstrar o modelo de regressão.\n",
        "\n",
        "##### **Resultados do Modelo**\n",
        "- **R²**: Medida que indica a proporção da variação na variável resposta que pode ser explicada pelas variáveis preditoras.\n",
        "- **Coeficientes da Regressão**: Indicam a força e a direção da relação entre as variáveis.\n",
        "\n",
        "#### **Gráfico da Regressão**\n",
        "Abaixo está o gráfico que mostra a variável resposta e uma das variáveis preditoras, junto com a reta da regressão.\n"
      ],
      "metadata": {
        "id": "zKFUapNZGlly"
      },
      "id": "zKFUapNZGlly"
    },
    {
      "cell_type": "markdown",
      "source": [
        "## ***Código para Análise de Regressão***"
      ],
      "metadata": {
        "id": "V8hoTM2RGwkS"
      },
      "id": "V8hoTM2RGwkS"
    },
    {
      "cell_type": "code",
      "source": [
        "import pandas as pd\n",
        "import numpy as np\n",
        "import matplotlib.pyplot as plt\n",
        "from sklearn.model_selection import train_test_split\n",
        "from sklearn.linear_model import LinearRegression\n",
        "from sklearn.metrics import r2_score\n",
        "\n",
        "# Carregando o conjunto de dados\n",
        "url = 'https://drive.google.com/uc?id=1Vf599dWdlJl2yw6Uvo5fWQzzymmyiJFz'\n",
        "df = pd.read_csv(url)\n",
        "\n",
        "# Examinando as primeiras linhas do dataframe\n",
        "print(df.head())\n",
        "\n",
        "# Definindo a variável resposta e a variável preditora\n",
        "X = df[['rm']]  # Número médio de quartos\n",
        "y = df['medv']  # Valor mediano das casas\n",
        "\n",
        "# Dividindo os dados em conjuntos de treino e teste\n",
        "X_train, X_test, y_train, y_test = train_test_split(X, y, test_size=0.2, random_state=42)\n",
        "\n",
        "# Criando o modelo de regressão linear\n",
        "modelo = LinearRegression()\n",
        "modelo.fit(X_train, y_train)\n",
        "\n",
        "# Fazendo previsões\n",
        "y_pred = modelo.predict(X_test)\n",
        "\n",
        "# Calculando R²\n",
        "r2 = r2_score(y_test, y_pred)\n",
        "print(f\"\\nR²: {r2:.2f}\")\n",
        "\n",
        "# Coeficientes da regressão\n",
        "coeficientes = modelo.coef_\n",
        "intercepto = modelo.intercept_\n",
        "print(f\"Coeficiente da variável preditora (rm): {coeficientes[0]:.2f}\")\n",
        "print(f\"Intercepto: {intercepto:.2f}\")\n",
        "\n",
        "# Gráfico da variável resposta e preditora\n",
        "plt.figure(figsize=(10, 6))\n",
        "plt.scatter(X_test, y_test, color='blue', label='Dados Reais')\n",
        "plt.plot(X_test, y_pred, color='red', label='Reta de Regressão', linewidth=2)\n",
        "plt.title('Relação entre Número Médio de Quartos e Valor Mediano das Casas')\n",
        "plt.xlabel('Número Médio de Quartos (rm)')\n",
        "plt.ylabel('Valor Mediano das Casas (medv)')\n",
        "plt.legend()\n",
        "plt.grid(True)\n",
        "plt.show()\n"
      ],
      "metadata": {
        "colab": {
          "base_uri": "https://localhost:8080/",
          "height": 860
        },
        "id": "CFiDg90OF8Hk",
        "outputId": "bd9115d0-2b98-4b18-a39f-16b240d50e0a"
      },
      "id": "CFiDg90OF8Hk",
      "execution_count": null,
      "outputs": [
        {
          "output_type": "stream",
          "name": "stdout",
          "text": [
            "      crim    zn  indus  chas    nox     rm   age     dis  rad  tax  ptratio  \\\n",
            "0  0.00632  18.0   2.31     0  0.538  6.575  65.2  4.0900    1  296     15.3   \n",
            "1  0.02731   0.0   7.07     0  0.469  6.421  78.9  4.9671    2  242     17.8   \n",
            "2  0.02729   0.0   7.07     0  0.469  7.185  61.1  4.9671    2  242     17.8   \n",
            "3  0.03237   0.0   2.18     0  0.458  6.998  45.8  6.0622    3  222     18.7   \n",
            "4  0.06905   0.0   2.18     0  0.458  7.147  54.2  6.0622    3  222     18.7   \n",
            "\n",
            "        b  lstat  medv  \n",
            "0  396.90   4.98  24.0  \n",
            "1  396.90   9.14  21.6  \n",
            "2  392.83   4.03  34.7  \n",
            "3  394.63   2.94  33.4  \n",
            "4  396.90   5.33  36.2  \n",
            "\n",
            "R²: 0.37\n",
            "Coeficiente da variável preditora (rm): 9.35\n",
            "Intercepto: -36.25\n"
          ]
        },
        {
          "output_type": "display_data",
          "data": {
            "text/plain": [
              "<Figure size 1000x600 with 1 Axes>"
            ],
            "image/png": "[encoded data removed]"
          },
          "metadata": {}
        }
      ]
    },
    {
      "cell_type": "markdown",
      "id": "1eb20397-250d-4c5e-a3f3-6b8913fff30d",
      "metadata": {
        "id": "1eb20397-250d-4c5e-a3f3-6b8913fff30d"
      },
      "source": [
        "# **8. Classificação**"
      ]
    },
    {
      "cell_type": "markdown",
      "source": [
        "Incluir o conjunto de dados na entrega do notebook.\n",
        "\n",
        "Em uma célula do mesmo notebook crie um texto com markdown, incluindo formatação com títulos, negrito, itálico e inclusão de figuras para explicar:\n",
        "\n",
        "Explique simplificadamente o que é o modelo de classificação e quando estes modelos podem ser utilizados. Apresente um pequeno exemplo numérico utilizando o que foi aprendido no curso, utilizando um conjunto de dados que não foi visto no curso (pode ser de qualquer lugar na internet) e imprimindo, utilizando validação cruzada, os seguintes resultados: Acurácia Matriz de confusão\n",
        "\n",
        "*Os conjuntos de dados devem ser diferentes entre os alunos *texto em itálico*"
      ],
      "metadata": {
        "id": "ibJLvNqhJrzM"
      },
      "id": "ibJLvNqhJrzM"
    },
    {
      "cell_type": "markdown",
      "source": [
        "## ***Markdown***"
      ],
      "metadata": {
        "id": "9PPchVGQINXq"
      },
      "id": "9PPchVGQINXq"
    },
    {
      "cell_type": "markdown",
      "source": [
        "### **Modelo de Classificação**\n",
        "\n",
        "Os modelos de classificação são técnicas estatísticas e de aprendizado de máquina utilizadas para categorizar dados em classes ou grupos. A principal ideia é prever a categoria à qual um novo dado pertence, com base em dados de treinamento previamente rotulados.\n",
        "\n",
        "#### **Quando Usar Modelos de Classificação?**\n",
        "Os modelos de classificação podem ser utilizados em diversas situações, como:\n",
        "- **Diagnóstico médico**: Classificar pacientes com base em sintomas e histórico médico.\n",
        "- **Reconhecimento de imagem**: Identificar objetos ou pessoas em imagens.\n",
        "- **Filtragem de e-mails**: Classificar e-mails como spam ou não spam.\n",
        "\n",
        "#### **Exemplo Numérico**\n",
        "Neste exemplo, utilizaremos o conjunto de dados sobre preços de casas, que possui as seguintes colunas: \"crim\", \"zn\", \"indus\", \"chas\", \"nox\", \"rm\", \"age\", \"dis\", \"rad\", \"tax\", \"ptratio\", \"b\", \"lstat\" e \"medv\". Vamos classificar as casas em \"baixo\", \"médio\" e \"alto\" preço com base na variável \"medv\".\n",
        "\n",
        "##### **Resultados do Modelo**\n",
        "- **Acurácia**: Medida de quão frequentemente o classificador está correto.\n",
        "- **Matriz de Confusão**: Tabela que descreve o desempenho do modelo de classificação em relação aos dados de teste.\n",
        "\n",
        "#### **Gráfico da Classificação**\n",
        "Abaixo está o gráfico que mostra a matriz de confusão para visualizar os resultados da classificação.\n"
      ],
      "metadata": {
        "id": "EjYW0nrwIthQ"
      },
      "id": "EjYW0nrwIthQ"
    },
    {
      "cell_type": "markdown",
      "source": [
        "## ***Código para Análise de Classificação***"
      ],
      "metadata": {
        "id": "4oOLvOr9IXSB"
      },
      "id": "4oOLvOr9IXSB"
    },
    {
      "cell_type": "code",
      "source": [
        "import pandas as pd\n",
        "from sklearn.model_selection import train_test_split, cross_val_score\n",
        "from sklearn.ensemble import RandomForestClassifier\n",
        "from sklearn.metrics import confusion_matrix, accuracy_score, ConfusionMatrixDisplay\n",
        "import matplotlib.pyplot as plt\n",
        "\n",
        "# Carregando o conjunto de dados\n",
        "url = 'https://drive.google.com/uc?id=1Vf599dWdlJl2yw6Uvo5fWQzzymmyiJFz'  # Link do CSV\n",
        "data = pd.read_csv(url)\n",
        "\n",
        "# Visualizando as primeiras linhas do conjunto de dados\n",
        "print(data.head())\n",
        "\n",
        "# Definindo classes baseadas na variável 'medv'\n",
        "# Classificando 'medv' em 'baixo', 'médio' e 'alto' preço\n",
        "bins = [0, 15, 25, float(\"inf\")]\n",
        "labels = ['baixo', 'médio', 'alto']\n",
        "data['price_category'] = pd.cut(data['medv'], bins=bins, labels=labels)\n",
        "\n",
        "# Separando as variáveis independentes (features) e a variável dependente (target)\n",
        "X = data.drop(columns=['medv', 'price_category'])  # Remove 'medv' e a nova coluna de categorização\n",
        "y = data['price_category']\n",
        "\n",
        "# Dividindo os dados em conjuntos de treino e teste\n",
        "X_train, X_test, y_train, y_test = train_test_split(X, y, test_size=0.2, random_state=42)\n",
        "\n",
        "# Criando o modelo de classificação\n",
        "modelo = RandomForestClassifier(random_state=42)\n",
        "modelo.fit(X_train, y_train)\n",
        "\n",
        "# Fazendo previsões\n",
        "y_pred = modelo.predict(X_test)\n",
        "\n",
        "# Calculando a acurácia\n",
        "acuracia = accuracy_score(y_test, y_pred)\n",
        "print(f\"Acurácia: {acuracia:.2f}\")\n",
        "\n",
        "# Calculando a matriz de confusão\n",
        "matriz_confusao = confusion_matrix(y_test, y_pred, labels=labels)\n",
        "print(\"Matriz de Confusão:\")\n",
        "print(matriz_confusao)\n",
        "\n",
        "# Exibindo a matriz de confusão\n",
        "disp = ConfusionMatrixDisplay(confusion_matrix=matriz_confusao, display_labels=labels)\n",
        "disp.plot(cmap=plt.cm.Blues)\n",
        "plt.title('Matriz de Confusão do Classificador de Preços de Casas')\n",
        "plt.show()\n"
      ],
      "metadata": {
        "colab": {
          "base_uri": "https://localhost:8080/",
          "height": 784
        },
        "id": "Y7xl0DoFIZ6Z",
        "outputId": "b15bf074-458f-4719-802d-df272ff81fd5"
      },
      "id": "Y7xl0DoFIZ6Z",
      "execution_count": null,
      "outputs": [
        {
          "output_type": "stream",
          "name": "stdout",
          "text": [
            "      crim    zn  indus  chas    nox     rm   age     dis  rad  tax  ptratio  \\\n",
            "0  0.00632  18.0   2.31     0  0.538  6.575  65.2  4.0900    1  296     15.3   \n",
            "1  0.02731   0.0   7.07     0  0.469  6.421  78.9  4.9671    2  242     17.8   \n",
            "2  0.02729   0.0   7.07     0  0.469  7.185  61.1  4.9671    2  242     17.8   \n",
            "3  0.03237   0.0   2.18     0  0.458  6.998  45.8  6.0622    3  222     18.7   \n",
            "4  0.06905   0.0   2.18     0  0.458  7.147  54.2  6.0622    3  222     18.7   \n",
            "\n",
            "        b  lstat  medv  \n",
            "0  396.90   4.98  24.0  \n",
            "1  396.90   9.14  21.6  \n",
            "2  392.83   4.03  34.7  \n",
            "3  394.63   2.94  33.4  \n",
            "4  396.90   5.33  36.2  \n",
            "Acurácia: 0.87\n",
            "Matriz de Confusão:\n",
            "[[19  1  0]\n",
            " [ 6 55  2]\n",
            " [ 0  4 15]]\n"
          ]
        },
        {
          "output_type": "display_data",
          "data": {
            "text/plain": [
              "<Figure size 640x480 with 2 Axes>"
            ],
            "image/png": "[encoded data removed]"
          },
          "metadata": {}
        }
      ]
    },
    {
      "cell_type": "markdown",
      "id": "e0679f76-ba96-4e07-bb14-9d1a9aa9399a",
      "metadata": {
        "id": "e0679f76-ba96-4e07-bb14-9d1a9aa9399a"
      },
      "source": [
        "# **9. Agrupamento**"
      ]
    },
    {
      "cell_type": "markdown",
      "source": [
        "Explique simplificadamente o que é o modelo de Análise de Componentes Principais (PCA) e quando estes modelos podem ser utilizados.\n",
        "\n",
        "Apresente um pequeno exemplo numérico utilizando o que foi aprendido no curso, utilizando um conjunto de dados que não foi visto no curso (pode ser de qualquer lugar na internet) e imprimindo, os seguintes resultados:\n",
        "\n",
        "* Variância explicada por cada componente\n",
        "\n",
        "Faça um gráfico com os scores do PCA colorindo pelos grupos do seu conjunto de dados."
      ],
      "metadata": {
        "id": "zFCWoaZYJzPH"
      },
      "id": "zFCWoaZYJzPH"
    },
    {
      "cell_type": "markdown",
      "source": [
        "## ***Markdown***"
      ],
      "metadata": {
        "id": "Ej_vMW3vJLZA"
      },
      "id": "Ej_vMW3vJLZA"
    },
    {
      "cell_type": "markdown",
      "source": [
        "### **Modelo de Análise de Componentes Principais (PCA)**\n",
        "\n",
        "A Análise de Componentes Principais (PCA) é uma técnica estatística utilizada para reduzir a dimensionalidade de um conjunto de dados, mantendo o máximo possível de variância. O PCA transforma um conjunto de variáveis correlacionadas em um conjunto de variáveis não correlacionadas, chamadas de componentes principais.\n",
        "\n",
        "#### **Quando Usar o PCA?**\n",
        "O PCA pode ser utilizado em diversas situações, como:\n",
        "- **Redução de Dimensionalidade**: Quando se deseja simplificar um modelo, reduzindo o número de variáveis.\n",
        "- **Visualização de Dados**: Para projetar dados em 2D ou 3D, facilitando a interpretação gráfica.\n",
        "- **Pré-processamento para Algoritmos de Machine Learning**: Para melhorar a eficiência e a performance dos algoritmos.\n",
        "\n",
        "#### **Exemplo Numérico**\n",
        "Neste exemplo, utilizaremos o mesmo conjunto de dados sobre preços de casas. A seguir, realizaremos a Análise de Componentes Principais (PCA) para entender a variância explicada por cada componente principal.\n",
        "\n",
        "##### **Resultados do PCA**\n",
        "- **Variância Explicada por Cada Componente**: A quantidade de variância que cada componente principal explica no conjunto de dados.\n",
        "\n",
        "#### **Gráfico dos Scores do PCA**\n",
        "Abaixo está o gráfico dos scores do PCA, onde os dados são coloridos de acordo com a categoria de preço das casas.\n"
      ],
      "metadata": {
        "id": "n8CGDtg5JNco"
      },
      "id": "n8CGDtg5JNco"
    },
    {
      "cell_type": "markdown",
      "source": [
        "## ***Código para Análise de PCA***"
      ],
      "metadata": {
        "id": "0ABtK1OfJR0v"
      },
      "id": "0ABtK1OfJR0v"
    },
    {
      "cell_type": "code",
      "execution_count": null,
      "id": "6e9a28a3-a6e9-4c4c-8e79-3ef1426b653d",
      "metadata": {
        "colab": {
          "base_uri": "https://localhost:8080/",
          "height": 1000
        },
        "id": "6e9a28a3-a6e9-4c4c-8e79-3ef1426b653d",
        "outputId": "08862ae2-c89b-43e3-a5c3-dd890dfd7bb5"
      },
      "outputs": [
        {
          "output_type": "stream",
          "name": "stdout",
          "text": [
            "      crim    zn  indus  chas    nox     rm   age     dis  rad  tax  ptratio  \\\n",
            "0  0.00632  18.0   2.31     0  0.538  6.575  65.2  4.0900    1  296     15.3   \n",
            "1  0.02731   0.0   7.07     0  0.469  6.421  78.9  4.9671    2  242     17.8   \n",
            "2  0.02729   0.0   7.07     0  0.469  7.185  61.1  4.9671    2  242     17.8   \n",
            "3  0.03237   0.0   2.18     0  0.458  6.998  45.8  6.0622    3  222     18.7   \n",
            "4  0.06905   0.0   2.18     0  0.458  7.147  54.2  6.0622    3  222     18.7   \n",
            "\n",
            "        b  lstat  medv  \n",
            "0  396.90   4.98  24.0  \n",
            "1  396.90   9.14  21.6  \n",
            "2  392.83   4.03  34.7  \n",
            "3  394.63   2.94  33.4  \n",
            "4  396.90   5.33  36.2  \n",
            "Variância Explicada por Cada Componente:\n",
            "Componente 1: 0.47\n",
            "Componente 2: 0.11\n",
            "Componente 3: 0.10\n",
            "Componente 4: 0.07\n",
            "Componente 5: 0.06\n",
            "Componente 6: 0.05\n",
            "Componente 7: 0.04\n",
            "Componente 8: 0.03\n",
            "Componente 9: 0.02\n",
            "Componente 10: 0.02\n",
            "Componente 11: 0.01\n",
            "Componente 12: 0.01\n",
            "Componente 13: 0.00\n"
          ]
        },
        {
          "output_type": "display_data",
          "data": {
            "text/plain": [
              "<Figure size 1000x600 with 1 Axes>"
            ],
            "image/png": "[encoded data removed]"
          },
          "metadata": {}
        },
        {
          "output_type": "display_data",
          "data": {
            "text/plain": [
              "<Figure size 1000x600 with 2 Axes>"
            ],
            "image/png": "[encoded data removed]"
          },
          "metadata": {}
        }
      ],
      "source": [
        "import pandas as pd\n",
        "import numpy as np\n",
        "import matplotlib.pyplot as plt\n",
        "from sklearn.decomposition import PCA\n",
        "from sklearn.preprocessing import StandardScaler\n",
        "\n",
        "# Carregando o conjunto de dados\n",
        "url = 'https://drive.google.com/uc?id=1Vf599dWdlJl2yw6Uvo5fWQzzymmyiJFz'  # Link do CSV\n",
        "data = pd.read_csv(url)\n",
        "\n",
        "# Visualizando as primeiras linhas do conjunto de dados\n",
        "print(data.head())\n",
        "\n",
        "# Definindo as variáveis independentes\n",
        "X = data.drop(columns=['medv'])  # Retira a variável alvo\n",
        "\n",
        "# Padronizando os dados\n",
        "scaler = StandardScaler()\n",
        "X_scaled = scaler.fit_transform(X)\n",
        "\n",
        "# Aplicando PCA\n",
        "pca = PCA()\n",
        "X_pca = pca.fit_transform(X_scaled)\n",
        "\n",
        "# Variância explicada por cada componente\n",
        "variancia_explicada = pca.explained_variance_ratio_\n",
        "print(\"Variância Explicada por Cada Componente:\")\n",
        "for i, var in enumerate(variancia_explicada):\n",
        "    print(f\"Componente {i + 1}: {var:.2f}\")\n",
        "\n",
        "# Gráfico da variância explicada\n",
        "plt.figure(figsize=(10, 6))\n",
        "plt.bar(range(1, len(variancia_explicada) + 1), variancia_explicada, alpha=0.6, align='center', color='blue')\n",
        "plt.ylabel('Proporção da Variância Explicada')\n",
        "plt.xlabel('Componentes Principais')\n",
        "plt.title('Variância Explicada por Cada Componente Principal')\n",
        "plt.xticks(range(1, len(variancia_explicada) + 1))\n",
        "plt.grid()\n",
        "plt.show()\n",
        "\n",
        "# Gráfico dos scores do PCA\n",
        "# Colorindo pelos grupos de preço\n",
        "data['price_category'] = pd.cut(data['medv'], bins=[0, 15, 25, float(\"inf\")], labels=['baixo', 'médio', 'alto'])\n",
        "plt.figure(figsize=(10, 6))\n",
        "scatter = plt.scatter(X_pca[:, 0], X_pca[:, 1], c=data['price_category'].cat.codes, cmap='viridis', alpha=0.6)\n",
        "plt.xlabel('Componente Principal 1')\n",
        "plt.ylabel('Componente Principal 2')\n",
        "plt.title('Scores do PCA Coloridos por Categoria de Preço')\n",
        "plt.colorbar(scatter, ticks=[0, 1, 2], label='Categoria de Preço')\n",
        "plt.grid()\n",
        "plt.show()"
      ]
    },
    {
      "cell_type": "markdown",
      "source": [
        "# **10. Referências**"
      ],
      "metadata": {
        "id": "hOLFwCWUNMYt"
      },
      "id": "hOLFwCWUNMYt"
    },
    {
      "cell_type": "markdown",
      "source": [
        "#### **Exercícios Propostos**\n",
        "- [Exercícios Propostos](https://docs.google.com/document/d/1vqDYrcZOCTVvKvU_9PmszSRv6gnhhvta1JwkFneTjuU/edit?tab=t.0)\n",
        "\n",
        "#### **Lista de Temperaturas de Dez Países**\n",
        "- [Lista de países por extremos meteorológicos](https://pt.wikipedia.org/wiki/Lista_de_pa%C3%ADses_por_extremos_meteorol%C3%B3gicos)\n",
        "\n",
        "#### **Altura Média por País**\n",
        "- [Estatura média por país](https://pt.wikipedia.org/wiki/Estatura)\n",
        "\n",
        "#### **Valor de Bolsas de Pós-Graduação de Três Países para Reais**\n",
        "- [Bolsa de estudos em países como Canadá, EUA e Alemanha](https://exame.com/carreira/confira-63-bolsas-para-estudar-em-paises-como-canada-eua-e-alemanha/)\n",
        "\n",
        "#### **Awesome API**\n",
        "- Cotação do Dólar: `https://economia.awesomeapi.com.br/all/USD-BRL`\n",
        "- Cotação do Euro: `https://economia.awesomeapi.com.br/all/EUR-BRL`\n",
        "\n",
        "#### **Notebook de Referência**\n",
        "- [Notebook com exemplos de como fazer o RPA](https://colab.research.google.com/drive/1eYyx4zA19FDkp9tJCn6I2pOZyaguR89s?usp=sharing)\n",
        "\n",
        "#### **Dataset**\n",
        "- [Conjunto de dados **\"bicicletas.csv\"**](https://drive.google.com/uc?id=17meFxdJ0F2Y9-n56DK9Y8fNM-I4bSRCE)\n",
        "\n",
        "#### **Conjunto de Dados Utilizado**\n",
        "- [Google Drive - Boston Housing Dataset](https://drive.google.com/uc?id=1Vf599dWdlJl2yw6Uvo5fWQzzymmyiJFz)\n",
        "- [Kaggle - Boston Housing Dataset](https://www.kaggle.com/datasets/altavish/boston-housing-dataset)\n"
      ],
      "metadata": {
        "id": "1KxCskT6NU4s"
      },
      "id": "1KxCskT6NU4s"
    },
    {
      "cell_type": "markdown",
      "source": [
        "#  "
      ],
      "metadata": {
        "id": "XzRQpny5Qlcy"
      },
      "id": "XzRQpny5Qlcy"
    },
    {
      "cell_type": "markdown",
      "source": [
        "#### **Contato:**\n",
        "\n",
        "\n",
        "> [**GitHub**](https://github.com/arielreises) -  [**LinkedIn**](https://www.linkedin.com/in/arielreises/) -  [**DIO**](https://www.dio.me/users/arielreises2) - [**Site**](http://reises.com.br) - [**ariel@reises.com.br**](mailto:ariel@reises.com.br)\n",
        "\n",
        "\n",
        "\n",
        "\n"
      ],
      "metadata": {
        "id": "bjrQrmfBPdPb"
      },
      "id": "bjrQrmfBPdPb"
    }
  ],
  "metadata": {
    "kernelspec": {
      "display_name": "Python 3 (ipykernel)",
      "language": "python",
      "name": "python3"
    },
    "language_info": {
      "codemirror_mode": {
        "name": "ipython",
        "version": 3
      },
      "file_extension": ".py",
      "mimetype": "text/x-python",
      "name": "python",
      "nbconvert_exporter": "python",
      "pygments_lexer": "ipython3",
      "version": "3.10.14"
    },
    "colab": {
      "provenance": [],
      "collapsed_sections": [
        "c41f481a-a4db-4e84-9f83-f970d39c5c97",
        "3VFGm-BlW5tp",
        "62dfef54-04f8-4983-8849-dbfea3c4b142",
        "g7I3SVHBdOq7",
        "CFJCkvF4dRc6",
        "2wmpZiJ-deRa",
        "0e6193c7-04d3-48b0-a8f9-c394edbee9ac",
        "iCL7-rDvgjJQ",
        "sN_mI0kdg0DA",
        "8Uo8HHxJgw7w",
        "zBaz1WhBhwMf",
        "6ef43db1-287d-4f6a-b395-4c582f90cceb",
        "jqAUe9eKkcqu",
        "YUQTBRkdk8iE",
        "dIsia0k0lHI0",
        "P8A0G387li5T",
        "13f58528-6925-40e6-987b-00762ac5078c",
        "l9wuMlzzmN6r",
        "8zbFdMHwmYzr",
        "IRlYYA8DmmL9",
        "RaPtH2QEnJ_7",
        "Uuqj2JVMoT9i",
        "WVpFCirBoWMi",
        "O6xbBPLIoZCy",
        "ddfdfbc2-2953-43cd-885c-25423409fd02",
        "OtaanEsnozJB",
        "rdwD0j-7pPXY",
        "03c2aee5-88fe-4412-9a68-19d74d083697",
        "my19FfurtBWu",
        "FDD9Ql1QtHVO",
        "586e4123-4dec-438e-90ad-c8afc8ebe813",
        "40d6de3e-0784-40d2-af9a-6d905aac61e1",
        "lDrBN-bHurlV",
        "8d43c338-b8dc-4d90-8507-42f3f4ca39bb",
        "f16bf1c0-7446-4ed1-9a36-0b6523f8c45d",
        "7a2f0bc7-7ca1-48f2-bdff-7d633ffcf759",
        "07tps52Yw4Db",
        "J4UHpsjcw900",
        "fbNR5OW_xEkK",
        "db93ae6b-fa1c-4ef9-86d2-06373178fb7a",
        "J0cin-_n5yu8",
        "IF3qY5A456RE",
        "tPEzdX6q5_k0",
        "UlU3G6OC3rLt",
        "vDnq9mFM3v11",
        "UmNBiDWa3wrV",
        "2fc2f084-154b-46d4-8cf6-dd85393b509b",
        "6btr4ktrKZZv",
        "TlvNwntUGg9q",
        "V8hoTM2RGwkS",
        "1eb20397-250d-4c5e-a3f3-6b8913fff30d",
        "9PPchVGQINXq",
        "4oOLvOr9IXSB",
        "e0679f76-ba96-4e07-bb14-9d1a9aa9399a",
        "Ej_vMW3vJLZA",
        "0ABtK1OfJR0v"
      ]
    }
  },
  "nbformat": 4,
  "nbformat_minor": 5
}