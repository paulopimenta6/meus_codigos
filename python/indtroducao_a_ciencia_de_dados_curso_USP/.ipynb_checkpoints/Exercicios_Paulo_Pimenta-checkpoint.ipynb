{
 "cells": [
  {
   "cell_type": "markdown",
   "id": "944dd941-f31a-451f-b60f-717d133aa26b",
   "metadata": {},
   "source": [
    "**UNIVERSIDADE DE SÃO PAULO - USP**\n",
    "\n",
    "**Faculdade de Ciências Farmacêuticas de Ribeirão Preto**\n",
    "\n",
    "**Introdução à Ciência dos Dados**\n",
    "\n",
    "**Aluno:** 7599770 - Paulo Henrique de Almeida Soares Pimenta"
   ]
  },
  {
   "cell_type": "markdown",
   "id": "7c0050df-bf30-4c73-a4c7-fe8dc96b0036",
   "metadata": {},
   "source": [
    "# 1 - Estrutura de Dados"
   ]
  },
  {
   "cell_type": "markdown",
   "id": "ece62e2f-0181-406b-ab8f-69a3ebbe40a9",
   "metadata": {},
   "source": [
    "## **Exercício 1**"
   ]
  },
  {
   "cell_type": "code",
   "execution_count": 9,
   "id": "4fa5db74-ee3f-4e77-92a1-bcf22644af31",
   "metadata": {},
   "outputs": [],
   "source": [
    "temperaturas_celsius = [\n",
    "    56.7,  # Estados Unidos (Vale da Morte)\n",
    "    -27.4, # Países Baixos (Kebili)\n",
    "    -18.4, # Taiwan (Yushan)\n",
    "    54.0,  # Kuwait (Mitribah)\n",
    "    53.9,  # Israel (Tirat Zvi)\n",
    "    -41.0,  # Polonia (Siedlce)\n",
    "    50.7,  # Austrália (Oodnadatta)\n",
    "    52.0,  # México (Sonora)\n",
    "    -53.5,  #  Noruega (Karasjok)\n",
    "    52.0   # Arábia Saudita (Al-Ahsa)\n",
    "]\n",
    "\n",
    "paises = [\n",
    "    \"Estados Unidos (Vale da Morte)\",\n",
    "    \"Países Baixos (Kebili)\",\n",
    "    \"Taiwan (Yushan)\",\n",
    "    \"Kuwait (Mitribah)\",\n",
    "    \"Israel (Tirat Zvi)\",\n",
    "    \"Polonia (Siedlce)\",\n",
    "    \"Austrália (Oodnadatta)\",\n",
    "    \"México (Sonora)\",\n",
    "    \"Noruega (Karasjok)\",\n",
    "    \"Arábia Saudita (Al-Ahsa)\"\n",
    "]"
   ]
  },
  {
   "cell_type": "code",
   "execution_count": null,
   "id": "7565fa85-4fd6-422b-bd1e-51e249b79601",
   "metadata": {},
   "outputs": [],
   "source": []
  },
  {
   "cell_type": "code",
   "execution_count": 12,
   "id": "4f6a7036-f4f4-41af-bcfc-4d27e3bb1d63",
   "metadata": {},
   "outputs": [],
   "source": [
    "def C_to_farenheit(celsius):\n",
    "    return (9/5) * celsius + 32"
   ]
  },
  {
   "cell_type": "code",
   "execution_count": 100,
   "id": "97bffd9b-3e21-4b89-b730-9d0b4e1c1a61",
   "metadata": {},
   "outputs": [
    {
     "data": {
      "text/plain": [
       "'Temperatura pais: Estados Unidos (Vale da Morte):  Celsius: 56.70 e fahrenheit: 134.06'"
      ]
     },
     "metadata": {},
     "output_type": "display_data"
    },
    {
     "data": {
      "text/plain": [
       "'Temperatura pais: Países Baixos (Kebili):  Celsius: -27.40 e fahrenheit: -17.32'"
      ]
     },
     "metadata": {},
     "output_type": "display_data"
    },
    {
     "data": {
      "text/plain": [
       "'Temperatura pais: Taiwan (Yushan):  Celsius: -18.40 e fahrenheit: -1.12'"
      ]
     },
     "metadata": {},
     "output_type": "display_data"
    },
    {
     "data": {
      "text/plain": [
       "'Temperatura pais: Kuwait (Mitribah):  Celsius: 54.00 e fahrenheit: 129.20'"
      ]
     },
     "metadata": {},
     "output_type": "display_data"
    },
    {
     "data": {
      "text/plain": [
       "'Temperatura pais: Israel (Tirat Zvi):  Celsius: 53.90 e fahrenheit: 129.02'"
      ]
     },
     "metadata": {},
     "output_type": "display_data"
    },
    {
     "data": {
      "text/plain": [
       "'Temperatura pais: Polonia (Siedlce):  Celsius: -41.00 e fahrenheit: -41.80'"
      ]
     },
     "metadata": {},
     "output_type": "display_data"
    },
    {
     "data": {
      "text/plain": [
       "'Temperatura pais: Austrália (Oodnadatta):  Celsius: 50.70 e fahrenheit: 123.26'"
      ]
     },
     "metadata": {},
     "output_type": "display_data"
    },
    {
     "data": {
      "text/plain": [
       "'Temperatura pais: México (Sonora):  Celsius: 52.00 e fahrenheit: 125.60'"
      ]
     },
     "metadata": {},
     "output_type": "display_data"
    },
    {
     "data": {
      "text/plain": [
       "'Temperatura pais: Noruega (Karasjok):  Celsius: -53.50 e fahrenheit: -64.30'"
      ]
     },
     "metadata": {},
     "output_type": "display_data"
    },
    {
     "data": {
      "text/plain": [
       "'Temperatura pais: Arábia Saudita (Al-Ahsa):  Celsius: 52.00 e fahrenheit: 125.60'"
      ]
     },
     "metadata": {},
     "output_type": "display_data"
    }
   ],
   "source": [
    "for i in range(len(temperaturas_celsius)):\n",
    "    celsius = temperaturas_celsius[i]\n",
    "    fahrenheit = C_to_farenheit(celsius)\n",
    "    print(\"Temperatura pais: %s:  Celsius: %.2f e fahrenheit: %.2f\" % (paises[i], celsius, fahrenheit))"
   ]
  },
  {
   "cell_type": "markdown",
   "id": "d98a9c23-69fe-46df-939a-e0523d07dcf2",
   "metadata": {},
   "source": [
    "## **Exercício 2**"
   ]
  },
  {
   "cell_type": "code",
   "execution_count": 22,
   "id": "dd983572-446c-4354-a190-9631ff308d0d",
   "metadata": {},
   "outputs": [],
   "source": [
    "altura_pais = {\n",
    "    \"Alemanha\": 1.79,\n",
    "    \"Argentina\": 1.738,\n",
    "    \"Austrália\": 1.778,\n",
    "    \"Paises Baixos\": 1.838,\n",
    "    'Suécia': 1.79,\n",
    "    'Canadá': 1.78,\n",
    "    'Estados Unidos': 1.77,\n",
    "    'Reino Unido': 1.75,\n",
    "    'Estônia': 1.81,\n",
    "    'Finlândia': 1.79    \n",
    "}"
   ]
  },
  {
   "cell_type": "code",
   "execution_count": 26,
   "id": "bd8aafcc-aac6-404b-9211-0e4ef8781879",
   "metadata": {},
   "outputs": [],
   "source": [
    "def peso_ideal(altura):\n",
    "    return (72.7*altura) - 58"
   ]
  },
  {
   "cell_type": "code",
   "execution_count": 30,
   "id": "a3a5757d-0c61-45a4-8342-5eb640fc1c8f",
   "metadata": {},
   "outputs": [
    {
     "name": "stdout",
     "output_type": "stream",
     "text": [
      "Peso ideal para o Alemanha com altura 1.79 m: 72.13 kg\n",
      "Peso ideal para o Argentina com altura 1.74 m: 68.35 kg\n",
      "Peso ideal para o Austrália com altura 1.78 m: 71.26 kg\n",
      "Peso ideal para o Paises Baixos com altura 1.84 m: 75.62 kg\n",
      "Peso ideal para o Suécia com altura 1.79 m: 72.13 kg\n",
      "Peso ideal para o Canadá com altura 1.78 m: 71.41 kg\n",
      "Peso ideal para o Estados Unidos com altura 1.77 m: 70.68 kg\n",
      "Peso ideal para o Reino Unido com altura 1.75 m: 69.23 kg\n",
      "Peso ideal para o Estônia com altura 1.81 m: 73.59 kg\n",
      "Peso ideal para o Finlândia com altura 1.79 m: 72.13 kg\n"
     ]
    }
   ],
   "source": [
    "for pais, altura_m in altura_pais.items():\n",
    "    print(f'Peso ideal para o {pais} com altura {altura_m:.2f} m: {peso_ideal(altura_m):.2f} kg')"
   ]
  },
  {
   "cell_type": "markdown",
   "id": "5f359f2f-81de-4aaf-9194-be94d4aa265a",
   "metadata": {},
   "source": [
    "## **Exercício 3**"
   ]
  },
  {
   "cell_type": "code",
   "execution_count": 46,
   "id": "f048e4ef-0e49-4592-84ec-293bc37f48d4",
   "metadata": {},
   "outputs": [
    {
     "name": "stdout",
     "output_type": "stream",
     "text": [
      "O valor da bolsa de estudo no país Alemanha é: R$28.78 por hora trabalhada, R$4605.0 por mês e R$55260.0 por ano.\n",
      "O valor da bolsa de estudo no país Bélgica é: R$38.38 por hora trabalhada, R$6140.0 por mês e R$73680.0 por ano.\n",
      "O valor da bolsa de estudo no país Dinamarca é: R$33.31 por hora trabalhada, R$5330.0 por mês e R$63960.0 por ano.\n"
     ]
    }
   ],
   "source": [
    "# Dados sobre a bolsa de estudos na Alemanha\n",
    "pais = 'Alemanha'\n",
    "valor_mensal_euro = 750  # Valor mensal da bolsa em Euros\n",
    "cotacao_euro_real = 6.14  # Cotação do Euro para Real no dia da atividade\n",
    "\n",
    "# Conversão para Real por hora trabalhada\n",
    "valor_hora_real = cotacao_euro_real * valor_mensal_euro / (4 * 40)  # Considerando 4 semanas e 40 horas por semana\n",
    "\n",
    "# Conversão para Real por mês\n",
    "valor_mensal_real = cotacao_euro_real * valor_mensal_euro\n",
    "\n",
    "# Conversão para Real por ano\n",
    "valor_anual_real = cotacao_euro_real * valor_mensal_euro * 12\n",
    "\n",
    "########################################################################################\n",
    "# Exibição dos resultados formatados\n",
    "print(f'O valor da bolsa de estudo no país {pais} é: '\n",
    "      f'R${round(valor_hora_real, 2)} por hora trabalhada, '\n",
    "      f'R${round(valor_mensal_real, 2)} por mês e '\n",
    "      f'R${round(valor_anual_real, 2)} por ano.')\n",
    "########################################################################################\n",
    "\n",
    "# Conversão do valor de bolsas de pós-graduação da Bélgica\n",
    "pais_belgica = 'Bélgica'\n",
    "bolsa_mensal_euro_belgica = 1000  # Valor mensal da bolsa em Euros\n",
    "cotacao_euro_real = 6.14  # Cotação do Euro para Real\n",
    "\n",
    "# Conversão para Real por hora trabalhada\n",
    "valor_hora_real_belgica = cotacao_euro_real * bolsa_mensal_euro_belgica / (4 * 40)\n",
    "\n",
    "# Conversão para Real por mês\n",
    "valor_mensal_real_belgica = cotacao_euro_real * bolsa_mensal_euro_belgica\n",
    "\n",
    "# Conversão para Real por ano\n",
    "valor_anual_real_belgica = cotacao_euro_real * bolsa_mensal_euro_belgica * 12\n",
    "\n",
    "########################################################################################\n",
    "# Exibição dos resultados para Bélgica\n",
    "print(f'O valor da bolsa de estudo no país {pais_belgica} é: '\n",
    "      f'R${round(valor_hora_real_belgica, 2)} por hora trabalhada, '\n",
    "      f'R${round(valor_mensal_real_belgica, 2)} por mês e '\n",
    "      f'R${round(valor_anual_real_belgica, 2)} por ano.')\n",
    "########################################################################################\n",
    "\n",
    "# Conversão do valor de bolsas de pós-graduação da Dinamarca\n",
    "pais_dinamarca = 'Dinamarca'\n",
    "bolsa_mensal_coroa_dinamarquesa = 6500  # Valor mensal da bolsa em Coroa Dinamarquesa\n",
    "cotacao_coroa_real = 0.82  # Cotação da Coroa Dinamarquesa para Real\n",
    "\n",
    "# Conversão para Real por hora trabalhada\n",
    "valor_hora_real_dinamarca = cotacao_coroa_real * bolsa_mensal_coroa_dinamarquesa / (4 * 40)\n",
    "\n",
    "# Conversão para Real por mês\n",
    "valor_mensal_real_dinamarca = cotacao_coroa_real * bolsa_mensal_coroa_dinamarquesa\n",
    "\n",
    "# Conversão para Real por ano\n",
    "valor_anual_real_dinamarca = cotacao_coroa_real * bolsa_mensal_coroa_dinamarquesa * 12\n",
    "\n",
    "# Exibição dos resultados para Dinamarca\n",
    "########################################################################################\n",
    "print(f'O valor da bolsa de estudo no país {pais_dinamarca} é: '\n",
    "      f'R${round(valor_hora_real_dinamarca, 2)} por hora trabalhada, '\n",
    "      f'R${round(valor_mensal_real_dinamarca, 2)} por mês e '\n",
    "      f'R${round(valor_anual_real_dinamarca, 2)} por ano.')\n",
    "########################################################################################\n"
   ]
  },
  {
   "cell_type": "markdown",
   "id": "57908895-9cf2-4483-b864-516a2483e7dc",
   "metadata": {},
   "source": [
    "# 2 - Estruturas de Decisão"
   ]
  },
  {
   "cell_type": "markdown",
   "id": "c66b8553-5a4a-4cfc-a841-482bff674ecf",
   "metadata": {},
   "source": [
    "## **Exercício 1**"
   ]
  },
  {
   "cell_type": "code",
   "execution_count": 55,
   "id": "7e89b3a3-611f-4a06-87ff-25ac262427c7",
   "metadata": {},
   "outputs": [
    {
     "name": "stdout",
     "output_type": "stream",
     "text": [
      "12°C: Está frio\n",
      "25°C: Está calor\n",
      "30°C: Está calor\n",
      "18°C: Está frio\n",
      "15°C: Está frio\n",
      "29°C: Está calor\n",
      "22°C: Está calor\n",
      "35°C: Está calor\n",
      "10°C: Está frio\n"
     ]
    }
   ],
   "source": [
    "# Lista com as temperaturas registradas\n",
    "lista_temperaturas = [12, 25, 30, 18, 15, 29, 22, 35, 10]\n",
    "\n",
    "# Limite de temperatura para definição de frio ou calor\n",
    "limite_temperatura = 20  # Temperatura de referência em graus Celsius\n",
    "\n",
    "# Verifica cada temperatura e indica se está frio ou calor\n",
    "for temperatura in lista_temperaturas:\n",
    "    if temperatura < limite_temperatura:\n",
    "        print(f\"{temperatura}°C: Está frio\")\n",
    "    else:\n",
    "        print(f\"{temperatura}°C: Está calor\")\n"
   ]
  },
  {
   "cell_type": "markdown",
   "id": "cb9e4932-e7c5-4a11-af6f-913846d78c76",
   "metadata": {},
   "source": [
    "## **Exercício 2**"
   ]
  },
  {
   "cell_type": "code",
   "execution_count": 60,
   "id": "ba7d671c-7400-4ce3-ba8f-c6e92c733b1e",
   "metadata": {},
   "outputs": [
    {
     "name": "stdin",
     "output_type": "stream",
     "text": [
      "Tipo de combustível: A-álcool, G-gasolina:  A\n",
      "Quantidade de litros:  10\n"
     ]
    },
    {
     "name": "stdout",
     "output_type": "stream",
     "text": [
      "O valor de Álcool a ser pago será: R$18.43\n"
     ]
    }
   ],
   "source": [
    "# Preços dos combustíveis\n",
    "preco_alcool = 1.90  # Preço por litro do álcool\n",
    "preco_gasolina = 2.50  # Preço por litro da gasolina\n",
    "\n",
    "# Entrada de dados do usuário\n",
    "tipo_combustivel = input('Tipo de combustível: A-álcool, G-gasolina: ').strip().upper()\n",
    "quantidade_litros = round(float(input('Quantidade de litros: ')), 2)\n",
    "\n",
    "# Cálculo do valor a ser pago, com desconto aplicado conforme as condições\n",
    "if tipo_combustivel == 'A' and quantidade_litros > 20:\n",
    "    valor_total = round(preco_alcool * quantidade_litros * 0.95, 2)\n",
    "    print(f'O valor de Álcool a ser pago será: R${valor_total}')\n",
    "elif tipo_combustivel == 'A' and quantidade_litros <= 20:\n",
    "    valor_total = round(preco_alcool * quantidade_litros * 0.97, 2)\n",
    "    print(f'O valor de Álcool a ser pago será: R${valor_total}')\n",
    "elif tipo_combustivel == 'G' and quantidade_litros > 20:\n",
    "    valor_total = round(preco_gasolina * quantidade_litros * 0.96, 2)\n",
    "    print(f'O valor de Gasolina a ser pago será: R${valor_total}')\n",
    "elif tipo_combustivel == 'G' and quantidade_litros <= 20:\n",
    "    valor_total = round(preco_gasolina * quantidade_litros * 0.94, 2)\n",
    "    print(f'O valor de Gasolina a ser pago será: R${valor_total}')\n",
    "else:\n",
    "    print('Não foi possível realizar os cálculos com os dados informados')\n"
   ]
  },
  {
   "cell_type": "markdown",
   "id": "7c33f7ce-b921-487e-a57b-1cfbc9a2b206",
   "metadata": {},
   "source": [
    "## **Exercício 3**"
   ]
  },
  {
   "cell_type": "code",
   "execution_count": 70,
   "id": "9048886c-7061-44a1-8010-b1d3a659424e",
   "metadata": {},
   "outputs": [
    {
     "name": "stdin",
     "output_type": "stream",
     "text": [
      "Digite a quantidade de morangos em kg:  5\n",
      "Digite a quantidade de maçãs em kg:  5\n"
     ]
    },
    {
     "name": "stdout",
     "output_type": "stream",
     "text": [
      "Valor a ser pago: R$ 19.35\n"
     ]
    }
   ],
   "source": [
    "# Definir os preços por kg para morangos e maçãs\n",
    "preco_morango_ate_5kg = 2.50\n",
    "preco_morango_acima_5kg = 2.20\n",
    "preco_maca_ate_5kg = 1.80\n",
    "preco_maca_acima_5kg = 1.50\n",
    "\n",
    "# Solicitar a quantidade de morangos e maçãs adquiridas em kg\n",
    "kg_morango = float(input(\"Digite a quantidade de morangos em kg: \"))\n",
    "kg_maca = float(input(\"Digite a quantidade de maçãs em kg: \"))\n",
    "\n",
    "# Calcular o custo dos morangos\n",
    "if kg_morango <= 5:\n",
    "    valor_morango = kg_morango * preco_morango_ate_5kg\n",
    "else:\n",
    "    valor_morango = kg_morango * preco_morango_acima_5kg\n",
    "\n",
    "# Calcular o custo das maçãs\n",
    "if kg_maca <= 5:\n",
    "    valor_maca = kg_maca * preco_maca_ate_5kg\n",
    "else:\n",
    "    valor_maca = kg_maca * preco_maca_acima_5kg\n",
    "\n",
    "# Calcular o valor total da compra\n",
    "valor_total = valor_morango + valor_maca\n",
    "\n",
    "# Aplicar desconto de 10% se a quantidade total for maior que 8 kg ou o valor total ultrapassar R$ 25,00\n",
    "if (kg_morango + kg_maca > 8) or (valor_total > 25.00):\n",
    "    valor_total *= 0.90  # Aplica o desconto de 10%\n",
    "\n",
    "# Exibir o valor total a ser pago pelo cliente\n",
    "print(f\"Valor a ser pago: R$ {valor_total:.2f}\")\n",
    "\n"
   ]
  },
  {
   "cell_type": "markdown",
   "id": "068c0f70-81ce-473f-ab89-b053c4b4a5d6",
   "metadata": {},
   "source": [
    "# 3 - Estruturas de Repetição"
   ]
  },
  {
   "cell_type": "markdown",
   "id": "63cfea00-da59-4ff5-97c8-e978c6b67e69",
   "metadata": {},
   "source": [
    "## **Exercício 1**"
   ]
  },
  {
   "cell_type": "code",
   "execution_count": 80,
   "id": "2806e3ec-9fea-4820-9ea9-59ca3197357a",
   "metadata": {},
   "outputs": [
    {
     "name": "stdin",
     "output_type": "stream",
     "text": [
      "Insira um número:  5\n"
     ]
    },
    {
     "name": "stdout",
     "output_type": "stream",
     "text": [
      "\n",
      "A tabuada do número 5 é:\n",
      "5 x 1 = 5\n",
      "5 x 2 = 10\n",
      "5 x 3 = 15\n",
      "5 x 4 = 20\n",
      "5 x 5 = 25\n",
      "5 x 6 = 30\n",
      "5 x 7 = 35\n",
      "5 x 8 = 40\n",
      "5 x 9 = 45\n",
      "5 x 10 = 50\n"
     ]
    }
   ],
   "source": [
    "# Entrada do usuário para o número desejado\n",
    "numero = int(input('Insira um número: '))  # Número para o qual a tabuada será calculada\n",
    "print(f'\\nA tabuada do número {numero} é:')\n",
    "\n",
    "# Loop para calcular a tabuada de 1 a 10\n",
    "for multiplicador in range(1, 11):\n",
    "    resultado = numero * multiplicador\n",
    "    print(f'{numero} x {multiplicador} = {resultado}')"
   ]
  },
  {
   "cell_type": "markdown",
   "id": "93403d65-0b37-4d20-b934-9a40c02bf57c",
   "metadata": {},
   "source": [
    "## **Exercício 2**"
   ]
  },
  {
   "cell_type": "code",
   "execution_count": 123,
   "id": "7f55f247-f6fb-4ab4-b992-7f7f3ccd0a04",
   "metadata": {},
   "outputs": [
    {
     "name": "stdout",
     "output_type": "stream",
     "text": [
      "56.7\n",
      "-27.4\n",
      "-18.4\n",
      "54.0\n",
      "53.9\n",
      "-41.0\n",
      "50.7\n",
      "52.0\n",
      "-53.5\n",
      "52.0\n",
      "###########################################\n",
      "1.79\n",
      "1.738\n",
      "1.778\n",
      "1.838\n",
      "1.79\n",
      "1.78\n",
      "1.77\n",
      "1.75\n",
      "1.81\n",
      "1.79\n"
     ]
    }
   ],
   "source": [
    "temperaturas_celsius = [\n",
    "    56.7,  # Estados Unidos (Vale da Morte)\n",
    "    -27.4, # Países Baixos (Kebili)\n",
    "    -18.4, # Taiwan (Yushan)\n",
    "    54.0,  # Kuwait (Mitribah)\n",
    "    53.9,  # Israel (Tirat Zvi)\n",
    "    -41.0,  # Polonia (Siedlce)\n",
    "    50.7,  # Austrália (Oodnadatta)\n",
    "    52.0,  # México (Sonora)\n",
    "    -53.5,  #  Noruega (Karasjok)\n",
    "    52.0   # Arábia Saudita (Al-Ahsa)\n",
    "]\n",
    "\n",
    "for i in range(len(temperaturas_celsius)):\n",
    "    print(temperaturas_celsius[i])\n",
    "\n",
    "print(\"###########################################\")\n",
    "\n",
    "altura_pais = {\n",
    "    \"Alemanha\": 1.79,\n",
    "    \"Argentina\": 1.738,\n",
    "    \"Austrália\": 1.778,\n",
    "    \"Paises Baixos\": 1.838,\n",
    "    'Suécia': 1.79,\n",
    "    'Canadá': 1.78,\n",
    "    'Estados Unidos': 1.77,\n",
    "    'Reino Unido': 1.75,\n",
    "    'Estônia': 1.81,\n",
    "    'Finlândia': 1.79    \n",
    "}\n",
    "\n",
    "for i in altura_pais.values():\n",
    "    print(i)"
   ]
  },
  {
   "cell_type": "markdown",
   "id": "cad4d336-79ee-4a53-b474-08b8c55d2c3e",
   "metadata": {},
   "source": [
    "## **Exercício 3**"
   ]
  },
  {
   "cell_type": "code",
   "execution_count": 115,
   "id": "a91a44b5-651d-4d9e-a544-da9446d77fb9",
   "metadata": {},
   "outputs": [
    {
     "name": "stdout",
     "output_type": "stream",
     "text": [
      "############################################\n",
      "Altura média em Alemanha: 1.79 m\n",
      "Altura média em Argentina: 1.738 m\n",
      "Altura média em Austrália: 1.778 m\n",
      "Altura média em Paises Baixos: 1.838 m\n",
      "Altura média em Suécia: 1.79 m\n",
      "Altura média em Canadá: 1.78 m\n",
      "Altura média em Estados Unidos: 1.77 m\n",
      "Altura média em Reino Unido: 1.75 m\n",
      "Altura média em Estônia: 1.81 m\n",
      "Altura média em Finlândia: 1.79 m\n"
     ]
    }
   ],
   "source": [
    "altura_pais = {\n",
    "    \"Alemanha\": 1.79,\n",
    "    \"Argentina\": 1.738,\n",
    "    \"Austrália\": 1.778,\n",
    "    \"Paises Baixos\": 1.838,\n",
    "    'Suécia': 1.79,\n",
    "    'Canadá': 1.78,\n",
    "    'Estados Unidos': 1.77,\n",
    "    'Reino Unido': 1.75,\n",
    "    'Estônia': 1.81,\n",
    "    'Finlândia': 1.79    \n",
    "}\n",
    "print(\"############################################\")\n",
    "for pais, altura in (altura_pais.items()):\n",
    "    print(f'Altura média em {pais}: {altura} m')"
   ]
  }
 ],
 "metadata": {
  "kernelspec": {
   "display_name": "Python 3 (ipykernel)",
   "language": "python",
   "name": "python3"
  },
  "language_info": {
   "codemirror_mode": {
    "name": "ipython",
    "version": 3
   },
   "file_extension": ".py",
   "mimetype": "text/x-python",
   "name": "python",
   "nbconvert_exporter": "python",
   "pygments_lexer": "ipython3",
   "version": "3.11.5"
  }
 },
 "nbformat": 4,
 "nbformat_minor": 5
}
