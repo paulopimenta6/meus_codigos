{
 "cells": [
  {
   "cell_type": "code",
   "execution_count": 2,
   "id": "893e88dc-81c1-41b0-8f66-23b6a4ee6831",
   "metadata": {
    "tags": []
   },
   "outputs": [],
   "source": [
    "from sklearn.naive_bayes import MultinomialNB\n",
    "modelo = MultinomialNB()\n",
    "##############################################################################\n",
    "###Caracteristicas do animal\n",
    "###porco/cachorro-->[\"tem perna curta\", \"é gordinho\", \"late\"]\n",
    "### --> True: 1, False: 0\n",
    "###caracteristicas das marcacoes \n",
    "###[\"é porco\", \"é cachoro\"]\n",
    "### --> porco: 1, cachorro: -1\n",
    "##############################################################################"
   ]
  },
  {
   "cell_type": "code",
   "execution_count": 3,
   "id": "018e4535-1f1b-48ef-9b54-ecafad470137",
   "metadata": {
    "tags": []
   },
   "outputs": [],
   "source": [
    "porco1 = [1,1,0]\n",
    "porco2 = [1,1,0]\n",
    "porco3 = [1,1,0]\n",
    "cachorro4 = [1,1,1]\n",
    "cachorro5 = [0,1,1]\n",
    "cachorro6 = [0,1,1]"
   ]
  },
  {
   "cell_type": "code",
   "execution_count": 5,
   "id": "aa52da6b-aa24-4cb9-838b-f03f0f9297ed",
   "metadata": {
    "tags": []
   },
   "outputs": [],
   "source": [
    "dados = [porco1, porco2, porco3, cachorro4, cachorro5, cachorro6]\n",
    "marcacoes = [1, 1, 1, -1, -1, -1]"
   ]
  },
  {
   "cell_type": "code",
   "execution_count": 8,
   "id": "bef2776b-7d7b-42a9-9d7e-dff6f8395bb3",
   "metadata": {
    "tags": []
   },
   "outputs": [],
   "source": [
    "misterioso1 = [1,1,1]\n",
    "misterioso2 = [1,0,0]\n",
    "teste = [misterioso1, misterioso2]"
   ]
  },
  {
   "cell_type": "code",
   "execution_count": 10,
   "id": "6a06df38-d56b-4cba-90fa-69cbebae1300",
   "metadata": {
    "tags": []
   },
   "outputs": [
    {
     "name": "stdout",
     "output_type": "stream",
     "text": [
      "Elemento: porco\n",
      "Elemento: cachorro\n"
     ]
    }
   ],
   "source": [
    "modelo.fit(dados, marcacoes)\n",
    "ans_predict = modelo.predict(teste)\n",
    "for i in ans_predict:\n",
    "    print(\"Elemento: \" + (str(\"cachorro\") if i == 1 else str(\"porco\")))"
   ]
  },
  {
   "cell_type": "code",
   "execution_count": null,
   "id": "ba066683-e756-4577-925e-15871e7c3d80",
   "metadata": {},
   "outputs": [],
   "source": []
  },
  {
   "cell_type": "code",
   "execution_count": null,
   "id": "f3f3f564-1d14-4b4d-a9d5-3d66bd668476",
   "metadata": {},
   "outputs": [],
   "source": []
  }
 ],
 "metadata": {
  "kernelspec": {
   "display_name": "Python 3 (ipykernel)",
   "language": "python",
   "name": "python3"
  },
  "language_info": {
   "codemirror_mode": {
    "name": "ipython",
    "version": 3
   },
   "file_extension": ".py",
   "mimetype": "text/x-python",
   "name": "python",
   "nbconvert_exporter": "python",
   "pygments_lexer": "ipython3",
   "version": "3.11.9"
  }
 },
 "nbformat": 4,
 "nbformat_minor": 5
}
