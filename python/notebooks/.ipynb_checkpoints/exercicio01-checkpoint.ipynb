{
 "cells": [
  {
   "cell_type": "code",
   "execution_count": 94,
   "id": "4fa5db74-ee3f-4e77-92a1-bcf22644af31",
   "metadata": {},
   "outputs": [],
   "source": [
    "temperaturas_celsius = [\n",
    "    56.7,  # Estados Unidos (Vale da Morte)\n",
    "    -27.4, # Países Baixos (Kebili)\n",
    "    -18.4, # Taiwan (Yushan)\n",
    "    54.0,  # Kuwait (Mitribah)\n",
    "    53.9,  # Israel (Tirat Zvi)\n",
    "    -41.0,  # Polonia (Siedlce)\n",
    "    50.7,  # Austrália (Oodnadatta)\n",
    "    52.0,  # México (Sonora)\n",
    "    -53.5,  #  Noruega (Karasjok)\n",
    "    52.0   # Arábia Saudita (Al-Ahsa)\n",
    "]\n",
    "\n",
    "paises = [\n",
    "    \"Estados Unidos (Vale da Morte)\",\n",
    "    \"Países Baixos (Kebili)\",\n",
    "    \"Taiwan (Yushan)\",\n",
    "    \"Kuwait (Mitribah)\",\n",
    "    \"Israel (Tirat Zvi)\",\n",
    "    \"Polonia (Siedlce)\",\n",
    "    \"Austrália (Oodnadatta)\",\n",
    "    \"México (Sonora)\",\n",
    "    \"Noruega (Karasjok)\",\n",
    "    \"Arábia Saudita (Al-Ahsa)\"\n",
    "]"
   ]
  },
  {
   "cell_type": "code",
   "execution_count": 96,
   "id": "4f6a7036-f4f4-41af-bcfc-4d27e3bb1d63",
   "metadata": {},
   "outputs": [],
   "source": [
    "def C_to_farenheit(celsius):\n",
    "    return (9/5) * celsius + 32"
   ]
  },
  {
   "cell_type": "code",
   "execution_count": 100,
   "id": "97bffd9b-3e21-4b89-b730-9d0b4e1c1a61",
   "metadata": {},
   "outputs": [
    {
     "data": {
      "text/plain": [
       "'Temperatura pais: Estados Unidos (Vale da Morte):  Celsius: 56.70 e fahrenheit: 134.06'"
      ]
     },
     "metadata": {},
     "output_type": "display_data"
    },
    {
     "data": {
      "text/plain": [
       "'Temperatura pais: Países Baixos (Kebili):  Celsius: -27.40 e fahrenheit: -17.32'"
      ]
     },
     "metadata": {},
     "output_type": "display_data"
    },
    {
     "data": {
      "text/plain": [
       "'Temperatura pais: Taiwan (Yushan):  Celsius: -18.40 e fahrenheit: -1.12'"
      ]
     },
     "metadata": {},
     "output_type": "display_data"
    },
    {
     "data": {
      "text/plain": [
       "'Temperatura pais: Kuwait (Mitribah):  Celsius: 54.00 e fahrenheit: 129.20'"
      ]
     },
     "metadata": {},
     "output_type": "display_data"
    },
    {
     "data": {
      "text/plain": [
       "'Temperatura pais: Israel (Tirat Zvi):  Celsius: 53.90 e fahrenheit: 129.02'"
      ]
     },
     "metadata": {},
     "output_type": "display_data"
    },
    {
     "data": {
      "text/plain": [
       "'Temperatura pais: Polonia (Siedlce):  Celsius: -41.00 e fahrenheit: -41.80'"
      ]
     },
     "metadata": {},
     "output_type": "display_data"
    },
    {
     "data": {
      "text/plain": [
       "'Temperatura pais: Austrália (Oodnadatta):  Celsius: 50.70 e fahrenheit: 123.26'"
      ]
     },
     "metadata": {},
     "output_type": "display_data"
    },
    {
     "data": {
      "text/plain": [
       "'Temperatura pais: México (Sonora):  Celsius: 52.00 e fahrenheit: 125.60'"
      ]
     },
     "metadata": {},
     "output_type": "display_data"
    },
    {
     "data": {
      "text/plain": [
       "'Temperatura pais: Noruega (Karasjok):  Celsius: -53.50 e fahrenheit: -64.30'"
      ]
     },
     "metadata": {},
     "output_type": "display_data"
    },
    {
     "data": {
      "text/plain": [
       "'Temperatura pais: Arábia Saudita (Al-Ahsa):  Celsius: 52.00 e fahrenheit: 125.60'"
      ]
     },
     "metadata": {},
     "output_type": "display_data"
    }
   ],
   "source": [
    "for i in range(len(temperaturas_celsius)):\n",
    "    celsius = temperaturas_celsius[i]\n",
    "    fahrenheit = C_to_farenheit(celsius)\n",
    "    print(\"Temperatura pais: %s:  Celsius: %.2f e fahrenheit: %.2f\" % (paises[i], celsius, fahrenheit))"
   ]
  },
  {
   "cell_type": "code",
   "execution_count": null,
   "id": "f3ef18e2-7a44-46a1-b0bb-7f5f1290b428",
   "metadata": {},
   "outputs": [],
   "source": []
  }
 ],
 "metadata": {
  "kernelspec": {
   "display_name": "Python 3 (ipykernel)",
   "language": "python",
   "name": "python3"
  },
  "language_info": {
   "codemirror_mode": {
    "name": "ipython",
    "version": 3
   },
   "file_extension": ".py",
   "mimetype": "text/x-python",
   "name": "python",
   "nbconvert_exporter": "python",
   "pygments_lexer": "ipython3",
   "version": "3.11.5"
  }
 },
 "nbformat": 4,
 "nbformat_minor": 5
}
