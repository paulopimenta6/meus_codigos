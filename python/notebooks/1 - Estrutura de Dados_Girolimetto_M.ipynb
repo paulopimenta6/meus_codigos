{
 "cells": [
  {
   "cell_type": "markdown",
   "id": "dd1ac099-48ae-4ca5-b6c5-67cd0cc06a51",
   "metadata": {},
   "source": [
    "# Exercício 1 \n",
    "Crie uma lista de temperaturas de dez países\n",
    "https://pt.wikipedia.org/wiki/Lista_de_pa%C3%ADses_por_extremos_meteorol%C3%B3gicos\n",
    "Escreva em cada célula de um notebook o acesso a elementos da lista para calcular a temperatura em graus Farenheit:\n",
    "C = (5 * (F-32) / 9).\n"
   ]
  },
  {
   "cell_type": "code",
   "execution_count": 89,
   "id": "303be3e9-f9e1-4a66-a654-28566ec212f3",
   "metadata": {},
   "outputs": [],
   "source": [
    "# Criando lista vazia\n",
    "\n",
    "l =[]"
   ]
  },
  {
   "cell_type": "code",
   "execution_count": 93,
   "id": "ba17975f-19b2-48e0-a259-56ed714a09cf",
   "metadata": {},
   "outputs": [],
   "source": [
    "# Adicionando itens à lista:\n",
    "\n",
    "l.append(48.9) # Temperatura registrada em Argentina\n",
    "l.append(50.7) # Temperatura registrada em Austrália\n",
    "l.append(46.7) # Temperatura registrada em Bolívia\n",
    "l.append(44.8) # Temperatura registrada em Brasil\n",
    "l.append(45.0) # Temperatura registrada em Colômbia\n",
    "l.append(44.9) # Temperatura registrada em Chile\n",
    "l.append(45.0) # Temperatura registrada em Paraguai\n",
    "l.append(41.5) # Temperatura registrada em Suíça\n",
    "l.append(44.0) # Temperatura registrada em Uruguai\n",
    "l.append(43.6) # Temperatura registrada em Venezuela"
   ]
  },
  {
   "cell_type": "code",
   "execution_count": 95,
   "id": "1fcb3e29-9ab5-4a8e-a3aa-7761d62b8d08",
   "metadata": {},
   "outputs": [
    {
     "data": {
      "text/plain": [
       "[48.9, 50.7, 46.7, 44.8, 45.0, 44.9, 45.0, 41.5, 44.0, 43.6]"
      ]
     },
     "execution_count": 95,
     "metadata": {},
     "output_type": "execute_result"
    }
   ],
   "source": [
    "# Lista de algumas das maiores temperaturas já registradas\n",
    "l"
   ]
  },
  {
   "cell_type": "code",
   "execution_count": 68,
   "id": "dde46660-916a-4c9a-bf31-f916c849fff7",
   "metadata": {},
   "outputs": [],
   "source": [
    "# Equação para conversão de Celsius para Farenheit\n",
    "\n",
    "# f = 9/5*l[i] + 32, onde l[i] é o valor contido na lista na iézima posição"
   ]
  },
  {
   "cell_type": "code",
   "execution_count": 74,
   "id": "3dd943f3-b0a9-4a53-9edb-bcecea178811",
   "metadata": {},
   "outputs": [
    {
     "name": "stdout",
     "output_type": "stream",
     "text": [
      "A maior temperatura já registrada em Argentina foi: 120.02°F\n"
     ]
    }
   ],
   "source": [
    "# Convertendo temperatura registrada em Argentina\n",
    "\n",
    "pais = 'Argentina'\n",
    "f = 9/5*l[0] + 32\n",
    "\n",
    "print(f'A maior temperatura já registrada em {pais} foi: {f}°F')"
   ]
  },
  {
   "cell_type": "code",
   "execution_count": 72,
   "id": "aaee7c02-6756-46fc-b322-1a641d72a617",
   "metadata": {},
   "outputs": [
    {
     "name": "stdout",
     "output_type": "stream",
     "text": [
      "A maior temperatura já registrada em Austrália foi: 123.26°F\n"
     ]
    }
   ],
   "source": [
    "# Convertendo temperatura registrada em Austrália\n",
    "\n",
    "pais = 'Austrália'\n",
    "f = 9/5*l[1] + 32\n",
    "\n",
    "print(f'A maior temperatura já registrada em {pais} foi: {f}°F')"
   ]
  },
  {
   "cell_type": "code",
   "execution_count": 70,
   "id": "58744aa3-a3b5-47fc-a62d-d22a25fc2e62",
   "metadata": {},
   "outputs": [
    {
     "name": "stdout",
     "output_type": "stream",
     "text": [
      "A maior temperatura já registrada em Bolívia foi: 116.06°F\n"
     ]
    }
   ],
   "source": [
    "# Convertendo temperatura registrada em Bolívia\n",
    "\n",
    "pais = 'Bolívia'\n",
    "f = 9/5*l[2] + 32\n",
    "\n",
    "print(f'A maior temperatura já registrada em {pais} foi: {f}°F')"
   ]
  },
  {
   "cell_type": "code",
   "execution_count": 66,
   "id": "30722307-50bc-48ee-84c5-6e4c8fa95520",
   "metadata": {},
   "outputs": [
    {
     "name": "stdout",
     "output_type": "stream",
     "text": [
      "A maior temperatura já registrada em Brasil foi: 112.64°F\n"
     ]
    }
   ],
   "source": [
    "# Convertendo temperatura registrada em Brasil\n",
    "\n",
    "pais = 'Brasil'\n",
    "f = 9/5*l[3] + 32\n",
    "\n",
    "print(f'A maior temperatura já registrada em {pais} foi: {f}°F')"
   ]
  },
  {
   "cell_type": "code",
   "execution_count": 64,
   "id": "40d960e6-5177-4c9d-8ba9-57e399d51059",
   "metadata": {},
   "outputs": [
    {
     "name": "stdout",
     "output_type": "stream",
     "text": [
      "A maior temperatura já registrada em Colômbia foi: 113.0°F\n"
     ]
    }
   ],
   "source": [
    "# Convertendo temperatura registrada em Colômbia\n",
    "\n",
    "pais = 'Colômbia'\n",
    "f = 9/5*l[4] + 32\n",
    "\n",
    "print(f'A maior temperatura já registrada em {pais} foi: {f}°F')"
   ]
  },
  {
   "cell_type": "code",
   "execution_count": 60,
   "id": "270fbeaf-0c4e-4172-8fb1-d2c79ff30841",
   "metadata": {},
   "outputs": [
    {
     "name": "stdout",
     "output_type": "stream",
     "text": [
      "A maior temperatura já registrada em Chile foi: 112.82°F\n"
     ]
    }
   ],
   "source": [
    "# Convertendo temperatura registrada em Chile\n",
    "\n",
    "pais = 'Chile'\n",
    "f = 9/5*l[5] + 32\n",
    "\n",
    "print(f'A maior temperatura já registrada em {pais} foi: {f}°F')"
   ]
  },
  {
   "cell_type": "code",
   "execution_count": 58,
   "id": "3d71fb7c-bfcc-422b-8057-637994959020",
   "metadata": {},
   "outputs": [
    {
     "name": "stdout",
     "output_type": "stream",
     "text": [
      "A maior temperatura já registrada em Paraguai foi: 113.0°F\n"
     ]
    }
   ],
   "source": [
    "# Convertendo temperatura registrada em Paraguai\n",
    "\n",
    "pais = 'Paraguai'\n",
    "f = 9/5*l[6] + 32\n",
    "\n",
    "print(f'A maior temperatura já registrada em {pais} foi: {f}°F')"
   ]
  },
  {
   "cell_type": "code",
   "execution_count": 99,
   "id": "962b0ff7-b38c-483d-809e-b8b146f64122",
   "metadata": {},
   "outputs": [
    {
     "name": "stdout",
     "output_type": "stream",
     "text": [
      "A maior temperatura já registrada em Suíça foi: 106.7°F\n"
     ]
    }
   ],
   "source": [
    "# Convertendo temperatura registrada em Suíça\n",
    "\n",
    "pais = 'Suíça'\n",
    "f = 9/5*l[7] + 32\n",
    "\n",
    "print(f'A maior temperatura já registrada em {pais} foi: {f}°F')"
   ]
  },
  {
   "cell_type": "code",
   "execution_count": 101,
   "id": "2234199a-3972-44cc-8f13-8107be248179",
   "metadata": {},
   "outputs": [
    {
     "name": "stdout",
     "output_type": "stream",
     "text": [
      "A maior temperatura já registrada em Uruguai foi: 111.2°F\n"
     ]
    }
   ],
   "source": [
    "# Convertendo temperatura registrada em Uruguai\n",
    "\n",
    "pais = 'Uruguai'\n",
    "f = 9/5*l[8] + 32\n",
    "\n",
    "print(f'A maior temperatura já registrada em {pais} foi: {f}°F')"
   ]
  },
  {
   "cell_type": "code",
   "execution_count": 97,
   "id": "5c2c0270-3eb0-4bc3-8fc4-079c55aecfd0",
   "metadata": {},
   "outputs": [
    {
     "name": "stdout",
     "output_type": "stream",
     "text": [
      "A maior temperatura já registrada em Venezuela foi: 110.48°F\n"
     ]
    }
   ],
   "source": [
    "# Convertendo temperatura registrada em Venezuela\n",
    "\n",
    "pais = 'Venezuela'\n",
    "f = 9/5*l[9] + 32\n",
    "\n",
    "print(f'A maior temperatura já registrada em {pais} foi: {f}°F')"
   ]
  },
  {
   "cell_type": "markdown",
   "id": "ba321f5f-02c5-49b3-97b1-9013354e3ea8",
   "metadata": {},
   "source": [
    "# Exercício 2  \n",
    "\n",
    "Tendo como dados de entrada a altura média por país \n",
    "https://pt.wikipedia.org/wiki/Estatura\n",
    "crie um dicionário com 10 países, com chave como nome do país e valor como altura média, imprima em cada linha de um notebook o peso ideal: \n",
    "(72.7*altura) - 58\n",
    "por país, utilizando o dicionário e o operador de formatação (f''). \n"
   ]
  },
  {
   "cell_type": "code",
   "execution_count": 109,
   "id": "65b691d7-019f-4017-b60c-cd09a6934efd",
   "metadata": {},
   "outputs": [],
   "source": [
    "# Criando um dicionário vazio\n",
    "\n",
    "d = {}"
   ]
  },
  {
   "cell_type": "code",
   "execution_count": 133,
   "id": "131291db-4a88-49d5-a730-353ae9ff1e1e",
   "metadata": {},
   "outputs": [
    {
     "data": {
      "text/plain": [
       "{'Alemanha': 1.86,\n",
       " 'Argélia': 1.81,\n",
       " 'Argentina': 1.74,\n",
       " 'Austrália': 1.78,\n",
       " 'Áustria': 1.8,\n",
       " 'Barém': 1.65,\n",
       " 'Bélgica': 1.8,\n",
       " 'Bolívia': 1.67,\n",
       " 'Brasil': 1.71,\n",
       " 'Camarões': 1.71}"
      ]
     },
     "execution_count": 133,
     "metadata": {},
     "output_type": "execute_result"
    }
   ],
   "source": [
    "# Adicionando elementos do dicionário\n",
    "\n",
    "d = {\n",
    "    'Alemanha': 1.86,\n",
    "    'Argélia' : 1.81,\n",
    "    'Argentina': 1.74,\n",
    "    'Austrália' : 1.78,\n",
    "    'Áustria' : 1.80,\n",
    "    'Barém' : 1.65,\n",
    "    'Bélgica' : 1.80,\n",
    "    'Bolívia' : 1.67,\n",
    "    'Brasil' : 1.71,\n",
    "    'Camarões' : 1.71 \n",
    "}\n",
    "d"
   ]
  },
  {
   "cell_type": "code",
   "execution_count": 135,
   "id": "2b1ce885-b8fa-4ff4-bc5a-cd3e2037cabc",
   "metadata": {},
   "outputs": [
    {
     "name": "stdout",
     "output_type": "stream",
     "text": [
      "No país Alemanha a altura média masculina é: 1.86 m\n",
      "No país Argélia a altura média masculina é: 1.81 m\n",
      "No país Argentina a altura média masculina é: 1.74 m\n",
      "No país Austrália a altura média masculina é: 1.78 m\n",
      "No país Áustria a altura média masculina é: 1.8 m\n",
      "No país Barém a altura média masculina é: 1.65 m\n",
      "No país Bélgica a altura média masculina é: 1.8 m\n",
      "No país Bolívia a altura média masculina é: 1.67 m\n",
      "No país Brasil a altura média masculina é: 1.71 m\n",
      "No país Camarões a altura média masculina é: 1.71 m\n"
     ]
    }
   ],
   "source": [
    "# Imprimindo chaves e valores do dicionário\n",
    "\n",
    "for i in d:\n",
    "    print(f'No país {i} a altura média masculina é: {d[i]} m')"
   ]
  },
  {
   "cell_type": "code",
   "execution_count": 156,
   "id": "65a73977-b952-4a28-a260-ecf29865244b",
   "metadata": {},
   "outputs": [
    {
     "name": "stdout",
     "output_type": "stream",
     "text": [
      "O peso ideal para os homens do país Alemanha é: 77.22 kg\n",
      "O peso ideal para os homens do país Argélia é: 73.59 kg\n",
      "O peso ideal para os homens do país Argentina é: 68.5 kg\n",
      "O peso ideal para os homens do país Austrália é: 71.41 kg\n",
      "O peso ideal para os homens do país Áustria é: 72.86 kg\n",
      "O peso ideal para os homens do país Barém é: 61.95 kg\n",
      "O peso ideal para os homens do país Bélgica é: 72.86 kg\n",
      "O peso ideal para os homens do país Bolívia é: 63.41 kg\n",
      "O peso ideal para os homens do país Brasil é: 66.32 kg\n",
      "O peso ideal para os homens do país Camarões é: 66.32 kg\n"
     ]
    }
   ],
   "source": [
    "# Imprimindo peso ideal baseado nas alturas\n",
    "\n",
    "# Equação : (72.7*d[i]) - 58, onde d[i] representa o valor da altura armazenada no dicionário d de chave i\n",
    "\n",
    "for i in d:\n",
    "    print(f'O peso ideal para os homens do país {i} é: {round((72.7*d[i]) - 58,2)} kg')"
   ]
  },
  {
   "cell_type": "markdown",
   "id": "d5ec85a8-9e24-44d2-a030-8ee8d5afebd8",
   "metadata": {},
   "source": [
    "# Questão 3\n",
    "\n",
    "Faça a conversão do valor de bolsas de pós-graduação de três países para Reais, imprimindo o salário de uma jornada de 40h semanais:\n",
    "https://exame.abril.com.br/carreira/confira-63-bolsas-para-estudar-em-paises-como-canada-eua-e-alemanha/\n",
    "Por hora trabalhada;\n",
    "Por mês;\n",
    "Por ano\n"
   ]
  },
  {
   "cell_type": "code",
   "execution_count": 158,
   "id": "3c7bf92e-7c98-49ea-9c19-439a7cf72245",
   "metadata": {},
   "outputs": [
    {
     "name": "stdout",
     "output_type": "stream",
     "text": [
      "O valor da bolsa de estudo no país Alemanha é: R$28.78 por hora trabalhada, R$4605.0 por mês e R$55260.0 por ano \n"
     ]
    }
   ],
   "source": [
    "# Conversão do valor de bolsas de pós-graduação de Alemanha:\n",
    "p = 'Alemanha'\n",
    "v = 750 # Valor mensal da bolsa, em Euro, segundo fonte\n",
    "c = 6.14 # Cotação do Euro no dia em que foi feito a atividade\n",
    "\n",
    "# Conversão por hora trabalha\n",
    "r_h = c*v/(4*40) # Equação para conversão de Euro em Real acumulado durante 1 hora\n",
    "\n",
    "# Conversão por mês\n",
    "r_m = c*v # Equação para conversão de Euro em Real acumulado durante 1 mês\n",
    "\n",
    "# Conversão por ano\n",
    "r_a = c*v*12 # Equação para conversão de Euro em Real acumulado durante 1 ano\n",
    "\n",
    "print(f'O valor da bolsa de estudo no país {p} é: R${round(r_h,2)} por hora trabalhada, R${round(r_m,2)} por mês e R${round(r_a,2)} por ano ')"
   ]
  },
  {
   "cell_type": "code",
   "execution_count": 160,
   "id": "2d661b4d-6c4f-4184-af78-75949984875f",
   "metadata": {},
   "outputs": [
    {
     "name": "stdout",
     "output_type": "stream",
     "text": [
      "O valor da bolsa de estudo no país Bélgica é: R$38.38 por hora trabalhada, R$6140.0 por mês e R$73680.0 por ano \n"
     ]
    }
   ],
   "source": [
    "# Conversão do valor de bolsas de pós-graduação de Bélgica:\n",
    "p = 'Bélgica'\n",
    "v = 1000 # Valor mensal da bolsa, em Euro, segundo fonte\n",
    "c = 6.14 # Cotação do Euro no dia em que foi feito a atividade\n",
    "\n",
    "# Conversão por hora trabalha\n",
    "r_h = c*v/(4*40) # Equação para conversão de Euro em Real acumulado durante 1 hora\n",
    "\n",
    "# Conversão por mês\n",
    "r_m = c*v # Equação para conversão de Euro em Real acumulado durante 1 mês\n",
    "\n",
    "# Conversão por ano\n",
    "r_a = c*v*12 # Equação para conversão de Euro em Real acumulado durante 1 ano\n",
    "\n",
    "print(f'O valor da bolsa de estudo no país {p} é: R${round(r_h,2)} por hora trabalhada, R${round(r_m,2)} por mês e R${round(r_a,2)} por ano ')"
   ]
  },
  {
   "cell_type": "code",
   "execution_count": 164,
   "id": "5582284d-b70e-47eb-bc9d-73fb34a3cd1e",
   "metadata": {},
   "outputs": [
    {
     "name": "stdout",
     "output_type": "stream",
     "text": [
      "O valor da bolsa de estudo no país Dinamarca é: R$33.31 por hora trabalhada, R$5330.0 por mês e R$63960.0 por ano \n"
     ]
    }
   ],
   "source": [
    "# Conversão do valor de bolsas de pós-graduação de Dinamarca:\n",
    "p = 'Dinamarca'\n",
    "v = 6500 # Valor mensal da bolsa, em Coroa Dinamarquesa, segundo fonte\n",
    "c = 0.82 # Cotação de Coroa Dinamarquesa no dia em que foi feito a atividade\n",
    "\n",
    "# Conversão por hora trabalha\n",
    "r_h = c*v/(4*40) # Equação para conversão de Coroa Dinamarquesa em Real acumulado durante 1 hora\n",
    "\n",
    "# Conversão por mês\n",
    "r_m = c*v # Equação para conversão de Coroa Dinamarquesa em Real acumulado durante 1 mês\n",
    "\n",
    "# Conversão por ano\n",
    "r_a = c*v*12 # Equação para conversão de Coroa Dinamarquesa em Real acumulado durante 1 ano\n",
    "\n",
    "print(f'O valor da bolsa de estudo no país {p} é: R${round(r_h,2)} por hora trabalhada, R${round(r_m,2)} por mês e R${round(r_a,2)} por ano ')"
   ]
  }
 ],
 "metadata": {
  "kernelspec": {
   "display_name": "Python 3 (ipykernel)",
   "language": "python",
   "name": "python3"
  },
  "language_info": {
   "codemirror_mode": {
    "name": "ipython",
    "version": 3
   },
   "file_extension": ".py",
   "mimetype": "text/x-python",
   "name": "python",
   "nbconvert_exporter": "python",
   "pygments_lexer": "ipython3",
   "version": "3.10.14"
  }
 },
 "nbformat": 4,
 "nbformat_minor": 5
}
